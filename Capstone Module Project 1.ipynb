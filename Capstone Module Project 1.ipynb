{
 "cells": [
  {
   "cell_type": "markdown",
   "id": "5282addf",
   "metadata": {},
   "source": [
    "# Data Understanding"
   ]
  },
  {
   "cell_type": "markdown",
   "id": "6d1244a6",
   "metadata": {},
   "source": [
    "## Context\n",
    "Database Northwind ini menggambarkan database milik suatu perusahaan fiktif yang bernama Northwind Traders dimana perusahaan ini bergerak dalam bidang eksport import makanan. Dalam database ini terdapat tabel-tabel seperti layaknya dalam suatu perusahaan eksport import seperti tabel Customers, Orders, Suppliers dan lain sebagainya. "
   ]
  },
  {
   "cell_type": "markdown",
   "id": "39bd1e43",
   "metadata": {},
   "source": [
    "Database Northwind yang dimiliki mempunyai 13 tabel, yaitu:\n",
    "- categories : Kategori barang\n",
    "- customercustomerdemo & customerdemographics : Karakteristik customer\n",
    "- customers : Data customer\n",
    "- employees : Data pekerja / karyawan\n",
    "- employeeterritories : Wilayah pekerja / karyawan\n",
    "- orders and orderdetails : Transaksi Pesanan Penjualan\n",
    "- products : Produk yang dijual\n",
    "- region : Region\n",
    "- shippers : Rincian Pengiriman\n",
    "- suppliers : Pemasok produk\n",
    "- territories : Wilayah"
   ]
  },
  {
   "cell_type": "markdown",
   "id": "b23b7e4e",
   "metadata": {},
   "source": [
    "# Database"
   ]
  },
  {
   "cell_type": "markdown",
   "id": "7defba48",
   "metadata": {},
   "source": [
    "### Import Library"
   ]
  },
  {
   "cell_type": "code",
   "execution_count": 386,
   "id": "ee7cc522",
   "metadata": {},
   "outputs": [],
   "source": [
    "import pandas as pd\n",
    "import numpy as np\n",
    "import mysql.connector as sqlcon\n",
    "import seaborn as sns\n",
    "import matplotlib.pyplot as plt\n",
    "import warnings\n",
    "warnings.filterwarnings('ignore')"
   ]
  },
  {
   "cell_type": "code",
   "execution_count": 387,
   "id": "45fb0675",
   "metadata": {},
   "outputs": [],
   "source": [
    "mydb = sqlcon.connect(\n",
    "    host = 'localhost',\n",
    "    user = 'root',\n",
    "    passwd = 'adhi1998',\n",
    "    database = 'northwind'\n",
    ")"
   ]
  },
  {
   "cell_type": "code",
   "execution_count": 388,
   "id": "24ddd0c3",
   "metadata": {},
   "outputs": [],
   "source": [
    "curs = mydb.cursor()\n",
    "\n",
    "def sql_table (query) :\n",
    "    curs.execute (query)\n",
    "    result = curs.fetchall()\n",
    "    tabel1 = pd.DataFrame(result, columns=curs.column_names)\n",
    "    return tabel1"
   ]
  },
  {
   "cell_type": "markdown",
   "id": "918f750f",
   "metadata": {},
   "source": [
    "## Data Detail Proses Pengiriman"
   ]
  },
  {
   "cell_type": "code",
   "execution_count": 458,
   "id": "b021a2ec",
   "metadata": {},
   "outputs": [],
   "source": [
    "# Query\n",
    "tabel1 = sql_table (\n",
    "    '''\n",
    "select c.CustomerID, c.CompanyName, c.Country, year(o.requireddate) OrderYear,\n",
    "    p.ProductName Product,  ca.CategoryName Category, round(p.UnitPrice,2) InitialPrice, \n",
    "    round(od.UnitPrice,2) BidPrice, od.Quantity, p.Unitsinstock, p.Unitsonorder, od.Discount, \n",
    "    round((p.unitPrice - od.UnitPrice),2) as DiffPrice, p.Reorderlevel, p.Discontinued\n",
    "from categories ca\n",
    "left join products p on ca.CategoryID = p.CategoryID\n",
    "left join orderdetails od on p.productID = od.productID\n",
    "left join orders o on od.orderID = o.orderid\n",
    "left join customers c on o.customerid = c.customerid;\n",
    "    '''\n",
    ")"
   ]
  },
  {
   "cell_type": "markdown",
   "id": "2e4568f1",
   "metadata": {},
   "source": [
    "Keterangan Kolom pada Tabel :\n",
    "- CustomerID: Kode pelanggan\n",
    "- CompanyName : Nama Perusahaan Pelanggan\n",
    "- Country : Asal Negara\n",
    "- OrderYear : Kode Pemesanan\n",
    "- Product : Nama Produk\n",
    "- Category : Kategori Produk\n",
    "- InitialPrice : Harga Awal Produk\n",
    "- BidPrice : Harga Setelah Penawaran\n",
    "- Quantity : Kuantitas Produk\n",
    "- Unitsinstock : Stok Produk\n",
    "- Unitsonorder : Produk Pesanan\n",
    "- Discount : Diskon Harga\n",
    "- DiffPrice : Selisih Harga\n",
    "- Reorderlevel : Tingkat Reorder\n",
    "- Discontinued : Status Pemberhentian"
   ]
  },
  {
   "cell_type": "code",
   "execution_count": 459,
   "id": "867ed63b",
   "metadata": {},
   "outputs": [
    {
     "data": {
      "text/html": [
       "<div>\n",
       "<style scoped>\n",
       "    .dataframe tbody tr th:only-of-type {\n",
       "        vertical-align: middle;\n",
       "    }\n",
       "\n",
       "    .dataframe tbody tr th {\n",
       "        vertical-align: top;\n",
       "    }\n",
       "\n",
       "    .dataframe thead th {\n",
       "        text-align: right;\n",
       "    }\n",
       "</style>\n",
       "<table border=\"1\" class=\"dataframe\">\n",
       "  <thead>\n",
       "    <tr style=\"text-align: right;\">\n",
       "      <th></th>\n",
       "      <th>CustomerID</th>\n",
       "      <th>CompanyName</th>\n",
       "      <th>Country</th>\n",
       "      <th>OrderYear</th>\n",
       "      <th>Product</th>\n",
       "      <th>Category</th>\n",
       "      <th>InitialPrice</th>\n",
       "      <th>BidPrice</th>\n",
       "      <th>Quantity</th>\n",
       "      <th>Unitsinstock</th>\n",
       "      <th>Unitsonorder</th>\n",
       "      <th>Discount</th>\n",
       "      <th>DiffPrice</th>\n",
       "      <th>Reorderlevel</th>\n",
       "      <th>Discontinued</th>\n",
       "    </tr>\n",
       "  </thead>\n",
       "  <tbody>\n",
       "    <tr>\n",
       "      <th>0</th>\n",
       "      <td>QUICK</td>\n",
       "      <td>QUICK-Stop</td>\n",
       "      <td>Germany</td>\n",
       "      <td>1996</td>\n",
       "      <td>Chai</td>\n",
       "      <td>Beverages</td>\n",
       "      <td>18.00</td>\n",
       "      <td>14.40</td>\n",
       "      <td>45</td>\n",
       "      <td>39</td>\n",
       "      <td>0</td>\n",
       "      <td>0.0</td>\n",
       "      <td>3.60</td>\n",
       "      <td>10</td>\n",
       "      <td>0</td>\n",
       "    </tr>\n",
       "    <tr>\n",
       "      <th>1</th>\n",
       "      <td>RATTC</td>\n",
       "      <td>Rattlesnake Canyon Grocery</td>\n",
       "      <td>USA</td>\n",
       "      <td>1996</td>\n",
       "      <td>Chai</td>\n",
       "      <td>Beverages</td>\n",
       "      <td>18.00</td>\n",
       "      <td>14.40</td>\n",
       "      <td>18</td>\n",
       "      <td>39</td>\n",
       "      <td>0</td>\n",
       "      <td>0.0</td>\n",
       "      <td>3.60</td>\n",
       "      <td>10</td>\n",
       "      <td>0</td>\n",
       "    </tr>\n",
       "    <tr>\n",
       "      <th>2</th>\n",
       "      <td>LONEP</td>\n",
       "      <td>Lonesome Pine Restaurant</td>\n",
       "      <td>USA</td>\n",
       "      <td>1996</td>\n",
       "      <td>Chai</td>\n",
       "      <td>Beverages</td>\n",
       "      <td>18.00</td>\n",
       "      <td>14.40</td>\n",
       "      <td>20</td>\n",
       "      <td>39</td>\n",
       "      <td>0</td>\n",
       "      <td>0.0</td>\n",
       "      <td>3.60</td>\n",
       "      <td>10</td>\n",
       "      <td>0</td>\n",
       "    </tr>\n",
       "    <tr>\n",
       "      <th>3</th>\n",
       "      <td>WANDK</td>\n",
       "      <td>Die Wandernde Kuh</td>\n",
       "      <td>Germany</td>\n",
       "      <td>1996</td>\n",
       "      <td>Chai</td>\n",
       "      <td>Beverages</td>\n",
       "      <td>18.00</td>\n",
       "      <td>14.40</td>\n",
       "      <td>15</td>\n",
       "      <td>39</td>\n",
       "      <td>0</td>\n",
       "      <td>0.0</td>\n",
       "      <td>3.60</td>\n",
       "      <td>10</td>\n",
       "      <td>0</td>\n",
       "    </tr>\n",
       "    <tr>\n",
       "      <th>4</th>\n",
       "      <td>PERIC</td>\n",
       "      <td>Pericles Comidas clsicas</td>\n",
       "      <td>Mexico</td>\n",
       "      <td>1996</td>\n",
       "      <td>Chai</td>\n",
       "      <td>Beverages</td>\n",
       "      <td>18.00</td>\n",
       "      <td>14.40</td>\n",
       "      <td>12</td>\n",
       "      <td>39</td>\n",
       "      <td>0</td>\n",
       "      <td>0.0</td>\n",
       "      <td>3.60</td>\n",
       "      <td>10</td>\n",
       "      <td>0</td>\n",
       "    </tr>\n",
       "  </tbody>\n",
       "</table>\n",
       "</div>"
      ],
      "text/plain": [
       "  CustomerID                 CompanyName  Country  OrderYear Product  \\\n",
       "0      QUICK                  QUICK-Stop  Germany       1996    Chai   \n",
       "1      RATTC  Rattlesnake Canyon Grocery      USA       1996    Chai   \n",
       "2      LONEP    Lonesome Pine Restaurant      USA       1996    Chai   \n",
       "3      WANDK           Die Wandernde Kuh  Germany       1996    Chai   \n",
       "4      PERIC    Pericles Comidas clsicas   Mexico       1996    Chai   \n",
       "\n",
       "    Category InitialPrice BidPrice  Quantity  Unitsinstock  Unitsonorder  \\\n",
       "0  Beverages        18.00    14.40        45            39             0   \n",
       "1  Beverages        18.00    14.40        18            39             0   \n",
       "2  Beverages        18.00    14.40        20            39             0   \n",
       "3  Beverages        18.00    14.40        15            39             0   \n",
       "4  Beverages        18.00    14.40        12            39             0   \n",
       "\n",
       "   Discount DiffPrice  Reorderlevel  Discontinued  \n",
       "0       0.0      3.60            10             0  \n",
       "1       0.0      3.60            10             0  \n",
       "2       0.0      3.60            10             0  \n",
       "3       0.0      3.60            10             0  \n",
       "4       0.0      3.60            10             0  "
      ]
     },
     "execution_count": 459,
     "metadata": {},
     "output_type": "execute_result"
    }
   ],
   "source": [
    "tabel1.head()"
   ]
  },
  {
   "cell_type": "markdown",
   "id": "9a404bb8",
   "metadata": {},
   "source": [
    "# Data Manipulation"
   ]
  },
  {
   "cell_type": "markdown",
   "id": "f0943206",
   "metadata": {},
   "source": [
    "## Data Anomalies"
   ]
  },
  {
   "cell_type": "code",
   "execution_count": 461,
   "id": "387f7089",
   "metadata": {},
   "outputs": [
    {
     "name": "stdout",
     "output_type": "stream",
     "text": [
      "<class 'pandas.core.frame.DataFrame'>\n",
      "RangeIndex: 2155 entries, 0 to 2154\n",
      "Data columns (total 15 columns):\n",
      " #   Column        Non-Null Count  Dtype  \n",
      "---  ------        --------------  -----  \n",
      " 0   CustomerID    2155 non-null   object \n",
      " 1   CompanyName   2155 non-null   object \n",
      " 2   Country       2155 non-null   object \n",
      " 3   OrderYear     2155 non-null   int64  \n",
      " 4   Product       2155 non-null   object \n",
      " 5   Category      2155 non-null   object \n",
      " 6   InitialPrice  2155 non-null   object \n",
      " 7   BidPrice      2155 non-null   object \n",
      " 8   Quantity      2155 non-null   int64  \n",
      " 9   Unitsinstock  2155 non-null   int64  \n",
      " 10  Unitsonorder  2155 non-null   int64  \n",
      " 11  Discount      2155 non-null   float64\n",
      " 12  DiffPrice     2155 non-null   object \n",
      " 13  Reorderlevel  2155 non-null   int64  \n",
      " 14  Discontinued  2155 non-null   int64  \n",
      "dtypes: float64(1), int64(6), object(8)\n",
      "memory usage: 252.7+ KB\n"
     ]
    }
   ],
   "source": [
    "tabel1.info()"
   ]
  },
  {
   "cell_type": "markdown",
   "id": "9424abe4",
   "metadata": {},
   "source": [
    "### Melihat data sekilas dari General Info\n",
    "Berdasarkan general info pada tabel terlihat memiliki 2155 baris dan 18 kolom, dengan index 0 sampai 2154. Setiap kolomnya memiliki data type seperti object, datetime, dan integer. Pada juga informasi jumlah Non-Null, setiap kolom tidak terdapat missing value yang ada pada tabel."
   ]
  },
  {
   "cell_type": "markdown",
   "id": "9dcbe375",
   "metadata": {},
   "source": [
    "## Check Missing Value"
   ]
  },
  {
   "cell_type": "code",
   "execution_count": 462,
   "id": "c16b8686",
   "metadata": {},
   "outputs": [
    {
     "data": {
      "text/plain": [
       "CustomerID      0\n",
       "CompanyName     0\n",
       "Country         0\n",
       "OrderYear       0\n",
       "Product         0\n",
       "Category        0\n",
       "InitialPrice    0\n",
       "BidPrice        0\n",
       "Quantity        0\n",
       "Unitsinstock    0\n",
       "Unitsonorder    0\n",
       "Discount        0\n",
       "DiffPrice       0\n",
       "Reorderlevel    0\n",
       "Discontinued    0\n",
       "dtype: int64"
      ]
     },
     "execution_count": 462,
     "metadata": {},
     "output_type": "execute_result"
    }
   ],
   "source": [
    "tabel1.isnull().sum()"
   ]
  },
  {
   "cell_type": "markdown",
   "id": "bc6b6f6d",
   "metadata": {},
   "source": [
    "## Mengubah Tipe Data yang Salah"
   ]
  },
  {
   "cell_type": "code",
   "execution_count": 463,
   "id": "e6d6d411",
   "metadata": {},
   "outputs": [],
   "source": [
    "tabel1['InitialPrice'] = pd.to_numeric(tabel1['InitialPrice'])\n",
    "tabel1['BidPrice'] = pd.to_numeric(tabel1['BidPrice'])\n",
    "tabel1['DiffPrice'] = pd.to_numeric(tabel1['DiffPrice'])"
   ]
  },
  {
   "cell_type": "code",
   "execution_count": 464,
   "id": "38db226d",
   "metadata": {},
   "outputs": [
    {
     "name": "stdout",
     "output_type": "stream",
     "text": [
      "<class 'pandas.core.frame.DataFrame'>\n",
      "RangeIndex: 2155 entries, 0 to 2154\n",
      "Data columns (total 15 columns):\n",
      " #   Column        Non-Null Count  Dtype  \n",
      "---  ------        --------------  -----  \n",
      " 0   CustomerID    2155 non-null   object \n",
      " 1   CompanyName   2155 non-null   object \n",
      " 2   Country       2155 non-null   object \n",
      " 3   OrderYear     2155 non-null   int64  \n",
      " 4   Product       2155 non-null   object \n",
      " 5   Category      2155 non-null   object \n",
      " 6   InitialPrice  2155 non-null   float64\n",
      " 7   BidPrice      2155 non-null   float64\n",
      " 8   Quantity      2155 non-null   int64  \n",
      " 9   Unitsinstock  2155 non-null   int64  \n",
      " 10  Unitsonorder  2155 non-null   int64  \n",
      " 11  Discount      2155 non-null   float64\n",
      " 12  DiffPrice     2155 non-null   float64\n",
      " 13  Reorderlevel  2155 non-null   int64  \n",
      " 14  Discontinued  2155 non-null   int64  \n",
      "dtypes: float64(4), int64(6), object(5)\n",
      "memory usage: 252.7+ KB\n"
     ]
    }
   ],
   "source": [
    "# Recheck general info\n",
    "tabel1.info()"
   ]
  },
  {
   "cell_type": "markdown",
   "id": "b0ad5ee7",
   "metadata": {},
   "source": [
    "## Menambahkan dan Menghapus Kolom"
   ]
  },
  {
   "cell_type": "markdown",
   "id": "a16983bd",
   "metadata": {},
   "source": [
    "Pada kolom diskon semua mempunyai nilai 0 setiap produknya, maka tidak berpengaruh pada harga. Sehingga kolom diskon akan dihapus."
   ]
  },
  {
   "cell_type": "code",
   "execution_count": 465,
   "id": "dff744dc",
   "metadata": {},
   "outputs": [
    {
     "data": {
      "text/plain": [
       "0.0    2155\n",
       "Name: Discount, dtype: int64"
      ]
     },
     "execution_count": 465,
     "metadata": {},
     "output_type": "execute_result"
    }
   ],
   "source": [
    "tabel1['Discount'].value_counts()"
   ]
  },
  {
   "cell_type": "code",
   "execution_count": 466,
   "id": "c0ab627e",
   "metadata": {},
   "outputs": [],
   "source": [
    "tabel1.drop('Discount', inplace=True, axis=1)"
   ]
  },
  {
   "cell_type": "markdown",
   "id": "78141e13",
   "metadata": {},
   "source": [
    "Pada tabel akan menambahkan kolom TotalPrice, yang dimana kolom Quantity dikali kolom BidPrice"
   ]
  },
  {
   "cell_type": "code",
   "execution_count": 467,
   "id": "2a496452",
   "metadata": {},
   "outputs": [],
   "source": [
    "tabel1['TotalPrice'] = tabel1['Quantity'] * tabel1['BidPrice']"
   ]
  },
  {
   "cell_type": "code",
   "execution_count": 468,
   "id": "93411e67",
   "metadata": {},
   "outputs": [
    {
     "data": {
      "text/html": [
       "<div>\n",
       "<style scoped>\n",
       "    .dataframe tbody tr th:only-of-type {\n",
       "        vertical-align: middle;\n",
       "    }\n",
       "\n",
       "    .dataframe tbody tr th {\n",
       "        vertical-align: top;\n",
       "    }\n",
       "\n",
       "    .dataframe thead th {\n",
       "        text-align: right;\n",
       "    }\n",
       "</style>\n",
       "<table border=\"1\" class=\"dataframe\">\n",
       "  <thead>\n",
       "    <tr style=\"text-align: right;\">\n",
       "      <th></th>\n",
       "      <th>CustomerID</th>\n",
       "      <th>CompanyName</th>\n",
       "      <th>Country</th>\n",
       "      <th>OrderYear</th>\n",
       "      <th>Product</th>\n",
       "      <th>Category</th>\n",
       "      <th>InitialPrice</th>\n",
       "      <th>BidPrice</th>\n",
       "      <th>Quantity</th>\n",
       "      <th>Unitsinstock</th>\n",
       "      <th>Unitsonorder</th>\n",
       "      <th>DiffPrice</th>\n",
       "      <th>Reorderlevel</th>\n",
       "      <th>Discontinued</th>\n",
       "      <th>TotalPrice</th>\n",
       "    </tr>\n",
       "  </thead>\n",
       "  <tbody>\n",
       "    <tr>\n",
       "      <th>230</th>\n",
       "      <td>FOLKO</td>\n",
       "      <td>Folk och f HB</td>\n",
       "      <td>Sweden</td>\n",
       "      <td>1997</td>\n",
       "      <td>Chartreuse verte</td>\n",
       "      <td>Beverages</td>\n",
       "      <td>18.00</td>\n",
       "      <td>18.00</td>\n",
       "      <td>16</td>\n",
       "      <td>69</td>\n",
       "      <td>0</td>\n",
       "      <td>0.0</td>\n",
       "      <td>5</td>\n",
       "      <td>0</td>\n",
       "      <td>288.0</td>\n",
       "    </tr>\n",
       "    <tr>\n",
       "      <th>557</th>\n",
       "      <td>OTTIK</td>\n",
       "      <td>Ottilies Kseladen</td>\n",
       "      <td>Germany</td>\n",
       "      <td>1997</td>\n",
       "      <td>Louisiana Fiery Hot Pepper Sauce</td>\n",
       "      <td>Condiments</td>\n",
       "      <td>21.05</td>\n",
       "      <td>21.05</td>\n",
       "      <td>30</td>\n",
       "      <td>76</td>\n",
       "      <td>0</td>\n",
       "      <td>0.0</td>\n",
       "      <td>0</td>\n",
       "      <td>0</td>\n",
       "      <td>631.5</td>\n",
       "    </tr>\n",
       "    <tr>\n",
       "      <th>1050</th>\n",
       "      <td>SAVEA</td>\n",
       "      <td>Save-a-lot Markets</td>\n",
       "      <td>USA</td>\n",
       "      <td>1998</td>\n",
       "      <td>Gorgonzola Telino</td>\n",
       "      <td>Dairy Products</td>\n",
       "      <td>12.50</td>\n",
       "      <td>12.50</td>\n",
       "      <td>44</td>\n",
       "      <td>0</td>\n",
       "      <td>70</td>\n",
       "      <td>0.0</td>\n",
       "      <td>20</td>\n",
       "      <td>0</td>\n",
       "      <td>550.0</td>\n",
       "    </tr>\n",
       "    <tr>\n",
       "      <th>999</th>\n",
       "      <td>KOENE</td>\n",
       "      <td>Kniglich Essen</td>\n",
       "      <td>Germany</td>\n",
       "      <td>1997</td>\n",
       "      <td>Queso Manchego La Pastora</td>\n",
       "      <td>Dairy Products</td>\n",
       "      <td>38.00</td>\n",
       "      <td>38.00</td>\n",
       "      <td>36</td>\n",
       "      <td>86</td>\n",
       "      <td>0</td>\n",
       "      <td>0.0</td>\n",
       "      <td>0</td>\n",
       "      <td>0</td>\n",
       "      <td>1368.0</td>\n",
       "    </tr>\n",
       "    <tr>\n",
       "      <th>1175</th>\n",
       "      <td>LEHMS</td>\n",
       "      <td>Lehmanns Marktstand</td>\n",
       "      <td>Germany</td>\n",
       "      <td>1997</td>\n",
       "      <td>Camembert Pierrot</td>\n",
       "      <td>Dairy Products</td>\n",
       "      <td>34.00</td>\n",
       "      <td>34.00</td>\n",
       "      <td>35</td>\n",
       "      <td>19</td>\n",
       "      <td>0</td>\n",
       "      <td>0.0</td>\n",
       "      <td>0</td>\n",
       "      <td>0</td>\n",
       "      <td>1190.0</td>\n",
       "    </tr>\n",
       "    <tr>\n",
       "      <th>1296</th>\n",
       "      <td>VICTE</td>\n",
       "      <td>Victuailles en stock</td>\n",
       "      <td>France</td>\n",
       "      <td>1997</td>\n",
       "      <td>Mozzarella di Giovanni</td>\n",
       "      <td>Dairy Products</td>\n",
       "      <td>34.80</td>\n",
       "      <td>27.80</td>\n",
       "      <td>40</td>\n",
       "      <td>14</td>\n",
       "      <td>0</td>\n",
       "      <td>7.0</td>\n",
       "      <td>0</td>\n",
       "      <td>0</td>\n",
       "      <td>1112.0</td>\n",
       "    </tr>\n",
       "    <tr>\n",
       "      <th>1114</th>\n",
       "      <td>BOTTM</td>\n",
       "      <td>Bottom-Dollar Markets</td>\n",
       "      <td>Canada</td>\n",
       "      <td>1997</td>\n",
       "      <td>Raclette Courdavault</td>\n",
       "      <td>Dairy Products</td>\n",
       "      <td>55.00</td>\n",
       "      <td>44.00</td>\n",
       "      <td>16</td>\n",
       "      <td>79</td>\n",
       "      <td>0</td>\n",
       "      <td>11.0</td>\n",
       "      <td>0</td>\n",
       "      <td>0</td>\n",
       "      <td>704.0</td>\n",
       "    </tr>\n",
       "    <tr>\n",
       "      <th>1422</th>\n",
       "      <td>ERNSH</td>\n",
       "      <td>Ernst Handel</td>\n",
       "      <td>Austria</td>\n",
       "      <td>1997</td>\n",
       "      <td>Gnocchi di nonna Alice</td>\n",
       "      <td>Grains/Cereals</td>\n",
       "      <td>38.00</td>\n",
       "      <td>30.40</td>\n",
       "      <td>30</td>\n",
       "      <td>21</td>\n",
       "      <td>10</td>\n",
       "      <td>7.6</td>\n",
       "      <td>30</td>\n",
       "      <td>0</td>\n",
       "      <td>912.0</td>\n",
       "    </tr>\n",
       "    <tr>\n",
       "      <th>1077</th>\n",
       "      <td>ERNSH</td>\n",
       "      <td>Ernst Handel</td>\n",
       "      <td>Austria</td>\n",
       "      <td>1997</td>\n",
       "      <td>Geitost</td>\n",
       "      <td>Dairy Products</td>\n",
       "      <td>2.50</td>\n",
       "      <td>2.00</td>\n",
       "      <td>60</td>\n",
       "      <td>112</td>\n",
       "      <td>0</td>\n",
       "      <td>0.5</td>\n",
       "      <td>20</td>\n",
       "      <td>0</td>\n",
       "      <td>120.0</td>\n",
       "    </tr>\n",
       "    <tr>\n",
       "      <th>1379</th>\n",
       "      <td>QUICK</td>\n",
       "      <td>QUICK-Stop</td>\n",
       "      <td>Germany</td>\n",
       "      <td>1998</td>\n",
       "      <td>Singaporean Hokkien Fried Mee</td>\n",
       "      <td>Grains/Cereals</td>\n",
       "      <td>14.00</td>\n",
       "      <td>14.00</td>\n",
       "      <td>40</td>\n",
       "      <td>26</td>\n",
       "      <td>0</td>\n",
       "      <td>0.0</td>\n",
       "      <td>0</td>\n",
       "      <td>1</td>\n",
       "      <td>560.0</td>\n",
       "    </tr>\n",
       "  </tbody>\n",
       "</table>\n",
       "</div>"
      ],
      "text/plain": [
       "     CustomerID            CompanyName  Country  OrderYear  \\\n",
       "230       FOLKO          Folk och f HB   Sweden       1997   \n",
       "557       OTTIK      Ottilies Kseladen  Germany       1997   \n",
       "1050      SAVEA     Save-a-lot Markets      USA       1998   \n",
       "999       KOENE         Kniglich Essen  Germany       1997   \n",
       "1175      LEHMS    Lehmanns Marktstand  Germany       1997   \n",
       "1296      VICTE   Victuailles en stock   France       1997   \n",
       "1114      BOTTM  Bottom-Dollar Markets   Canada       1997   \n",
       "1422      ERNSH           Ernst Handel  Austria       1997   \n",
       "1077      ERNSH           Ernst Handel  Austria       1997   \n",
       "1379      QUICK             QUICK-Stop  Germany       1998   \n",
       "\n",
       "                               Product        Category  InitialPrice  \\\n",
       "230                   Chartreuse verte       Beverages         18.00   \n",
       "557   Louisiana Fiery Hot Pepper Sauce      Condiments         21.05   \n",
       "1050                 Gorgonzola Telino  Dairy Products         12.50   \n",
       "999          Queso Manchego La Pastora  Dairy Products         38.00   \n",
       "1175                 Camembert Pierrot  Dairy Products         34.00   \n",
       "1296            Mozzarella di Giovanni  Dairy Products         34.80   \n",
       "1114              Raclette Courdavault  Dairy Products         55.00   \n",
       "1422            Gnocchi di nonna Alice  Grains/Cereals         38.00   \n",
       "1077                           Geitost  Dairy Products          2.50   \n",
       "1379     Singaporean Hokkien Fried Mee  Grains/Cereals         14.00   \n",
       "\n",
       "      BidPrice  Quantity  Unitsinstock  Unitsonorder  DiffPrice  Reorderlevel  \\\n",
       "230      18.00        16            69             0        0.0             5   \n",
       "557      21.05        30            76             0        0.0             0   \n",
       "1050     12.50        44             0            70        0.0            20   \n",
       "999      38.00        36            86             0        0.0             0   \n",
       "1175     34.00        35            19             0        0.0             0   \n",
       "1296     27.80        40            14             0        7.0             0   \n",
       "1114     44.00        16            79             0       11.0             0   \n",
       "1422     30.40        30            21            10        7.6            30   \n",
       "1077      2.00        60           112             0        0.5            20   \n",
       "1379     14.00        40            26             0        0.0             0   \n",
       "\n",
       "      Discontinued  TotalPrice  \n",
       "230              0       288.0  \n",
       "557              0       631.5  \n",
       "1050             0       550.0  \n",
       "999              0      1368.0  \n",
       "1175             0      1190.0  \n",
       "1296             0      1112.0  \n",
       "1114             0       704.0  \n",
       "1422             0       912.0  \n",
       "1077             0       120.0  \n",
       "1379             1       560.0  "
      ]
     },
     "execution_count": 468,
     "metadata": {},
     "output_type": "execute_result"
    }
   ],
   "source": [
    "tabel1.sample(10)"
   ]
  },
  {
   "cell_type": "code",
   "execution_count": 469,
   "id": "99f0b895",
   "metadata": {},
   "outputs": [
    {
     "data": {
      "text/html": [
       "<div>\n",
       "<style scoped>\n",
       "    .dataframe tbody tr th:only-of-type {\n",
       "        vertical-align: middle;\n",
       "    }\n",
       "\n",
       "    .dataframe tbody tr th {\n",
       "        vertical-align: top;\n",
       "    }\n",
       "\n",
       "    .dataframe thead th {\n",
       "        text-align: right;\n",
       "    }\n",
       "</style>\n",
       "<table border=\"1\" class=\"dataframe\">\n",
       "  <thead>\n",
       "    <tr style=\"text-align: right;\">\n",
       "      <th></th>\n",
       "      <th>CustomerID</th>\n",
       "      <th>CompanyName</th>\n",
       "      <th>Country</th>\n",
       "      <th>OrderYear</th>\n",
       "      <th>Product</th>\n",
       "      <th>Category</th>\n",
       "      <th>InitialPrice</th>\n",
       "      <th>BidPrice</th>\n",
       "      <th>Quantity</th>\n",
       "      <th>Unitsinstock</th>\n",
       "      <th>Unitsonorder</th>\n",
       "      <th>DiffPrice</th>\n",
       "      <th>Reorderlevel</th>\n",
       "      <th>Discontinued</th>\n",
       "      <th>TotalPrice</th>\n",
       "    </tr>\n",
       "  </thead>\n",
       "  <tbody>\n",
       "    <tr>\n",
       "      <th>0</th>\n",
       "      <td>QUICK</td>\n",
       "      <td>QUICK-Stop</td>\n",
       "      <td>Germany</td>\n",
       "      <td>1996</td>\n",
       "      <td>Chai</td>\n",
       "      <td>Beverages</td>\n",
       "      <td>18.0</td>\n",
       "      <td>14.4</td>\n",
       "      <td>45</td>\n",
       "      <td>39</td>\n",
       "      <td>0</td>\n",
       "      <td>3.6</td>\n",
       "      <td>10</td>\n",
       "      <td>0</td>\n",
       "      <td>648.0</td>\n",
       "    </tr>\n",
       "    <tr>\n",
       "      <th>1</th>\n",
       "      <td>RATTC</td>\n",
       "      <td>Rattlesnake Canyon Grocery</td>\n",
       "      <td>USA</td>\n",
       "      <td>1996</td>\n",
       "      <td>Chai</td>\n",
       "      <td>Beverages</td>\n",
       "      <td>18.0</td>\n",
       "      <td>14.4</td>\n",
       "      <td>18</td>\n",
       "      <td>39</td>\n",
       "      <td>0</td>\n",
       "      <td>3.6</td>\n",
       "      <td>10</td>\n",
       "      <td>0</td>\n",
       "      <td>259.2</td>\n",
       "    </tr>\n",
       "    <tr>\n",
       "      <th>2</th>\n",
       "      <td>LONEP</td>\n",
       "      <td>Lonesome Pine Restaurant</td>\n",
       "      <td>USA</td>\n",
       "      <td>1996</td>\n",
       "      <td>Chai</td>\n",
       "      <td>Beverages</td>\n",
       "      <td>18.0</td>\n",
       "      <td>14.4</td>\n",
       "      <td>20</td>\n",
       "      <td>39</td>\n",
       "      <td>0</td>\n",
       "      <td>3.6</td>\n",
       "      <td>10</td>\n",
       "      <td>0</td>\n",
       "      <td>288.0</td>\n",
       "    </tr>\n",
       "    <tr>\n",
       "      <th>3</th>\n",
       "      <td>WANDK</td>\n",
       "      <td>Die Wandernde Kuh</td>\n",
       "      <td>Germany</td>\n",
       "      <td>1996</td>\n",
       "      <td>Chai</td>\n",
       "      <td>Beverages</td>\n",
       "      <td>18.0</td>\n",
       "      <td>14.4</td>\n",
       "      <td>15</td>\n",
       "      <td>39</td>\n",
       "      <td>0</td>\n",
       "      <td>3.6</td>\n",
       "      <td>10</td>\n",
       "      <td>0</td>\n",
       "      <td>216.0</td>\n",
       "    </tr>\n",
       "    <tr>\n",
       "      <th>4</th>\n",
       "      <td>PERIC</td>\n",
       "      <td>Pericles Comidas clsicas</td>\n",
       "      <td>Mexico</td>\n",
       "      <td>1996</td>\n",
       "      <td>Chai</td>\n",
       "      <td>Beverages</td>\n",
       "      <td>18.0</td>\n",
       "      <td>14.4</td>\n",
       "      <td>12</td>\n",
       "      <td>39</td>\n",
       "      <td>0</td>\n",
       "      <td>3.6</td>\n",
       "      <td>10</td>\n",
       "      <td>0</td>\n",
       "      <td>172.8</td>\n",
       "    </tr>\n",
       "  </tbody>\n",
       "</table>\n",
       "</div>"
      ],
      "text/plain": [
       "  CustomerID                 CompanyName  Country  OrderYear Product  \\\n",
       "0      QUICK                  QUICK-Stop  Germany       1996    Chai   \n",
       "1      RATTC  Rattlesnake Canyon Grocery      USA       1996    Chai   \n",
       "2      LONEP    Lonesome Pine Restaurant      USA       1996    Chai   \n",
       "3      WANDK           Die Wandernde Kuh  Germany       1996    Chai   \n",
       "4      PERIC    Pericles Comidas clsicas   Mexico       1996    Chai   \n",
       "\n",
       "    Category  InitialPrice  BidPrice  Quantity  Unitsinstock  Unitsonorder  \\\n",
       "0  Beverages          18.0      14.4        45            39             0   \n",
       "1  Beverages          18.0      14.4        18            39             0   \n",
       "2  Beverages          18.0      14.4        20            39             0   \n",
       "3  Beverages          18.0      14.4        15            39             0   \n",
       "4  Beverages          18.0      14.4        12            39             0   \n",
       "\n",
       "   DiffPrice  Reorderlevel  Discontinued  TotalPrice  \n",
       "0        3.6            10             0       648.0  \n",
       "1        3.6            10             0       259.2  \n",
       "2        3.6            10             0       288.0  \n",
       "3        3.6            10             0       216.0  \n",
       "4        3.6            10             0       172.8  "
      ]
     },
     "execution_count": 469,
     "metadata": {},
     "output_type": "execute_result"
    }
   ],
   "source": [
    "tabel1.head()"
   ]
  },
  {
   "cell_type": "markdown",
   "id": "f8d060de",
   "metadata": {},
   "source": [
    "## Check Data Duplicate"
   ]
  },
  {
   "cell_type": "code",
   "execution_count": 470,
   "id": "1cde3f3b",
   "metadata": {},
   "outputs": [
    {
     "data": {
      "text/html": [
       "<div>\n",
       "<style scoped>\n",
       "    .dataframe tbody tr th:only-of-type {\n",
       "        vertical-align: middle;\n",
       "    }\n",
       "\n",
       "    .dataframe tbody tr th {\n",
       "        vertical-align: top;\n",
       "    }\n",
       "\n",
       "    .dataframe thead th {\n",
       "        text-align: right;\n",
       "    }\n",
       "</style>\n",
       "<table border=\"1\" class=\"dataframe\">\n",
       "  <thead>\n",
       "    <tr style=\"text-align: right;\">\n",
       "      <th></th>\n",
       "      <th>CustomerID</th>\n",
       "      <th>CompanyName</th>\n",
       "      <th>Country</th>\n",
       "      <th>OrderYear</th>\n",
       "      <th>Product</th>\n",
       "      <th>Category</th>\n",
       "      <th>InitialPrice</th>\n",
       "      <th>BidPrice</th>\n",
       "      <th>Quantity</th>\n",
       "      <th>Unitsinstock</th>\n",
       "      <th>Unitsonorder</th>\n",
       "      <th>DiffPrice</th>\n",
       "      <th>Reorderlevel</th>\n",
       "      <th>Discontinued</th>\n",
       "      <th>TotalPrice</th>\n",
       "    </tr>\n",
       "  </thead>\n",
       "  <tbody>\n",
       "    <tr>\n",
       "      <th>312</th>\n",
       "      <td>SUPRD</td>\n",
       "      <td>Suprmes dlices</td>\n",
       "      <td>Belgium</td>\n",
       "      <td>1998</td>\n",
       "      <td>Outback Lager</td>\n",
       "      <td>Beverages</td>\n",
       "      <td>15.00</td>\n",
       "      <td>15.00</td>\n",
       "      <td>30</td>\n",
       "      <td>15</td>\n",
       "      <td>10</td>\n",
       "      <td>0.0</td>\n",
       "      <td>30</td>\n",
       "      <td>0</td>\n",
       "      <td>450.00</td>\n",
       "    </tr>\n",
       "    <tr>\n",
       "      <th>491</th>\n",
       "      <td>TORTU</td>\n",
       "      <td>Tortuga Restaurante</td>\n",
       "      <td>Mexico</td>\n",
       "      <td>1997</td>\n",
       "      <td>Gula Malacca</td>\n",
       "      <td>Condiments</td>\n",
       "      <td>19.45</td>\n",
       "      <td>19.45</td>\n",
       "      <td>21</td>\n",
       "      <td>27</td>\n",
       "      <td>0</td>\n",
       "      <td>0.0</td>\n",
       "      <td>15</td>\n",
       "      <td>0</td>\n",
       "      <td>408.45</td>\n",
       "    </tr>\n",
       "    <tr>\n",
       "      <th>1052</th>\n",
       "      <td>AROUT</td>\n",
       "      <td>Around the Horn</td>\n",
       "      <td>UK</td>\n",
       "      <td>1998</td>\n",
       "      <td>Gorgonzola Telino</td>\n",
       "      <td>Dairy Products</td>\n",
       "      <td>12.50</td>\n",
       "      <td>12.50</td>\n",
       "      <td>50</td>\n",
       "      <td>0</td>\n",
       "      <td>70</td>\n",
       "      <td>0.0</td>\n",
       "      <td>20</td>\n",
       "      <td>0</td>\n",
       "      <td>625.00</td>\n",
       "    </tr>\n",
       "    <tr>\n",
       "      <th>1374</th>\n",
       "      <td>GOURL</td>\n",
       "      <td>Gourmet Lanchonetes</td>\n",
       "      <td>Brazil</td>\n",
       "      <td>1997</td>\n",
       "      <td>Singaporean Hokkien Fried Mee</td>\n",
       "      <td>Grains/Cereals</td>\n",
       "      <td>14.00</td>\n",
       "      <td>14.00</td>\n",
       "      <td>20</td>\n",
       "      <td>26</td>\n",
       "      <td>0</td>\n",
       "      <td>0.0</td>\n",
       "      <td>0</td>\n",
       "      <td>1</td>\n",
       "      <td>280.00</td>\n",
       "    </tr>\n",
       "    <tr>\n",
       "      <th>1713</th>\n",
       "      <td>REGGC</td>\n",
       "      <td>Reggiani Caseifici</td>\n",
       "      <td>Italy</td>\n",
       "      <td>1998</td>\n",
       "      <td>Uncle Bob's Organic Dried Pears</td>\n",
       "      <td>Produce</td>\n",
       "      <td>30.00</td>\n",
       "      <td>30.00</td>\n",
       "      <td>20</td>\n",
       "      <td>15</td>\n",
       "      <td>0</td>\n",
       "      <td>0.0</td>\n",
       "      <td>10</td>\n",
       "      <td>0</td>\n",
       "      <td>600.00</td>\n",
       "    </tr>\n",
       "    <tr>\n",
       "      <th>1831</th>\n",
       "      <td>VICTE</td>\n",
       "      <td>Victuailles en stock</td>\n",
       "      <td>France</td>\n",
       "      <td>1997</td>\n",
       "      <td>Ikura</td>\n",
       "      <td>Seafood</td>\n",
       "      <td>31.00</td>\n",
       "      <td>24.80</td>\n",
       "      <td>20</td>\n",
       "      <td>31</td>\n",
       "      <td>0</td>\n",
       "      <td>6.2</td>\n",
       "      <td>0</td>\n",
       "      <td>0</td>\n",
       "      <td>496.00</td>\n",
       "    </tr>\n",
       "  </tbody>\n",
       "</table>\n",
       "</div>"
      ],
      "text/plain": [
       "     CustomerID           CompanyName  Country  OrderYear  \\\n",
       "312       SUPRD        Suprmes dlices  Belgium       1998   \n",
       "491       TORTU   Tortuga Restaurante   Mexico       1997   \n",
       "1052      AROUT       Around the Horn       UK       1998   \n",
       "1374      GOURL   Gourmet Lanchonetes   Brazil       1997   \n",
       "1713      REGGC    Reggiani Caseifici    Italy       1998   \n",
       "1831      VICTE  Victuailles en stock   France       1997   \n",
       "\n",
       "                              Product        Category  InitialPrice  BidPrice  \\\n",
       "312                     Outback Lager       Beverages         15.00     15.00   \n",
       "491                      Gula Malacca      Condiments         19.45     19.45   \n",
       "1052                Gorgonzola Telino  Dairy Products         12.50     12.50   \n",
       "1374    Singaporean Hokkien Fried Mee  Grains/Cereals         14.00     14.00   \n",
       "1713  Uncle Bob's Organic Dried Pears         Produce         30.00     30.00   \n",
       "1831                            Ikura         Seafood         31.00     24.80   \n",
       "\n",
       "      Quantity  Unitsinstock  Unitsonorder  DiffPrice  Reorderlevel  \\\n",
       "312         30            15            10        0.0            30   \n",
       "491         21            27             0        0.0            15   \n",
       "1052        50             0            70        0.0            20   \n",
       "1374        20            26             0        0.0             0   \n",
       "1713        20            15             0        0.0            10   \n",
       "1831        20            31             0        6.2             0   \n",
       "\n",
       "      Discontinued  TotalPrice  \n",
       "312              0      450.00  \n",
       "491              0      408.45  \n",
       "1052             0      625.00  \n",
       "1374             1      280.00  \n",
       "1713             0      600.00  \n",
       "1831             0      496.00  "
      ]
     },
     "execution_count": 470,
     "metadata": {},
     "output_type": "execute_result"
    }
   ],
   "source": [
    "# Check Data Duplicated\n",
    "tabel1[tabel1.duplicated()]"
   ]
  },
  {
   "cell_type": "markdown",
   "id": "4a2ebf38",
   "metadata": {},
   "source": [
    "## Handling Data Duplicate"
   ]
  },
  {
   "cell_type": "markdown",
   "id": "a638dc43",
   "metadata": {},
   "source": [
    "Data duplicate berfungsi untuk menemukan data yang bersifat duplikat dan sebaiknya data yang duplikat bersifat dihapuskan dan disisakan data yang unique saja."
   ]
  },
  {
   "cell_type": "code",
   "execution_count": 471,
   "id": "8e53e534",
   "metadata": {},
   "outputs": [],
   "source": [
    "tabel1.drop_duplicates(inplace=True)"
   ]
  },
  {
   "cell_type": "code",
   "execution_count": 472,
   "id": "543b28c5",
   "metadata": {},
   "outputs": [
    {
     "data": {
      "text/html": [
       "<div>\n",
       "<style scoped>\n",
       "    .dataframe tbody tr th:only-of-type {\n",
       "        vertical-align: middle;\n",
       "    }\n",
       "\n",
       "    .dataframe tbody tr th {\n",
       "        vertical-align: top;\n",
       "    }\n",
       "\n",
       "    .dataframe thead th {\n",
       "        text-align: right;\n",
       "    }\n",
       "</style>\n",
       "<table border=\"1\" class=\"dataframe\">\n",
       "  <thead>\n",
       "    <tr style=\"text-align: right;\">\n",
       "      <th></th>\n",
       "      <th>CustomerID</th>\n",
       "      <th>CompanyName</th>\n",
       "      <th>Country</th>\n",
       "      <th>OrderYear</th>\n",
       "      <th>Product</th>\n",
       "      <th>Category</th>\n",
       "      <th>InitialPrice</th>\n",
       "      <th>BidPrice</th>\n",
       "      <th>Quantity</th>\n",
       "      <th>Unitsinstock</th>\n",
       "      <th>Unitsonorder</th>\n",
       "      <th>DiffPrice</th>\n",
       "      <th>Reorderlevel</th>\n",
       "      <th>Discontinued</th>\n",
       "      <th>TotalPrice</th>\n",
       "    </tr>\n",
       "  </thead>\n",
       "  <tbody>\n",
       "  </tbody>\n",
       "</table>\n",
       "</div>"
      ],
      "text/plain": [
       "Empty DataFrame\n",
       "Columns: [CustomerID, CompanyName, Country, OrderYear, Product, Category, InitialPrice, BidPrice, Quantity, Unitsinstock, Unitsonorder, DiffPrice, Reorderlevel, Discontinued, TotalPrice]\n",
       "Index: []"
      ]
     },
     "execution_count": 472,
     "metadata": {},
     "output_type": "execute_result"
    }
   ],
   "source": [
    "tabel1[tabel1.duplicated()]"
   ]
  },
  {
   "cell_type": "code",
   "execution_count": 473,
   "id": "df6a791a",
   "metadata": {},
   "outputs": [
    {
     "name": "stdout",
     "output_type": "stream",
     "text": [
      "<class 'pandas.core.frame.DataFrame'>\n",
      "Int64Index: 2149 entries, 0 to 2154\n",
      "Data columns (total 15 columns):\n",
      " #   Column        Non-Null Count  Dtype  \n",
      "---  ------        --------------  -----  \n",
      " 0   CustomerID    2149 non-null   object \n",
      " 1   CompanyName   2149 non-null   object \n",
      " 2   Country       2149 non-null   object \n",
      " 3   OrderYear     2149 non-null   int64  \n",
      " 4   Product       2149 non-null   object \n",
      " 5   Category      2149 non-null   object \n",
      " 6   InitialPrice  2149 non-null   float64\n",
      " 7   BidPrice      2149 non-null   float64\n",
      " 8   Quantity      2149 non-null   int64  \n",
      " 9   Unitsinstock  2149 non-null   int64  \n",
      " 10  Unitsonorder  2149 non-null   int64  \n",
      " 11  DiffPrice     2149 non-null   float64\n",
      " 12  Reorderlevel  2149 non-null   int64  \n",
      " 13  Discontinued  2149 non-null   int64  \n",
      " 14  TotalPrice    2149 non-null   float64\n",
      "dtypes: float64(4), int64(6), object(5)\n",
      "memory usage: 268.6+ KB\n"
     ]
    }
   ],
   "source": [
    "tabel1.info()"
   ]
  },
  {
   "cell_type": "markdown",
   "id": "36507a4e",
   "metadata": {},
   "source": [
    "## General Info Cleaned Data"
   ]
  },
  {
   "cell_type": "code",
   "execution_count": 474,
   "id": "10ae3d04",
   "metadata": {},
   "outputs": [],
   "source": [
    "# Check Some Info\n",
    "\n",
    "listItem = []\n",
    "for col in tabel1.columns :\n",
    "    listItem.append([col, tabel1[col].dtype, len(tabel1),tabel1[col].isna().sum(), round((tabel1[col].isna().sum()/len(tabel1[col])) * 100,2),\n",
    "                    tabel1[col].nunique(), list(tabel1[col].drop_duplicates().sample(1).values)])\n",
    "\n",
    "tabel1Desc = pd.DataFrame(columns=['Column Name', 'Data Type', 'Data Count', 'Missing Value', \n",
    "    'Missing Value Percentage', 'Number of Unique', 'Unique Sample'],\n",
    "                     data=listItem)"
   ]
  },
  {
   "cell_type": "code",
   "execution_count": 475,
   "id": "96a3dd72",
   "metadata": {},
   "outputs": [
    {
     "data": {
      "text/html": [
       "<div>\n",
       "<style scoped>\n",
       "    .dataframe tbody tr th:only-of-type {\n",
       "        vertical-align: middle;\n",
       "    }\n",
       "\n",
       "    .dataframe tbody tr th {\n",
       "        vertical-align: top;\n",
       "    }\n",
       "\n",
       "    .dataframe thead th {\n",
       "        text-align: right;\n",
       "    }\n",
       "</style>\n",
       "<table border=\"1\" class=\"dataframe\">\n",
       "  <thead>\n",
       "    <tr style=\"text-align: right;\">\n",
       "      <th></th>\n",
       "      <th>Column Name</th>\n",
       "      <th>Data Type</th>\n",
       "      <th>Data Count</th>\n",
       "      <th>Missing Value</th>\n",
       "      <th>Missing Value Percentage</th>\n",
       "      <th>Number of Unique</th>\n",
       "      <th>Unique Sample</th>\n",
       "    </tr>\n",
       "  </thead>\n",
       "  <tbody>\n",
       "    <tr>\n",
       "      <th>0</th>\n",
       "      <td>CustomerID</td>\n",
       "      <td>object</td>\n",
       "      <td>2149</td>\n",
       "      <td>0</td>\n",
       "      <td>0.0</td>\n",
       "      <td>89</td>\n",
       "      <td>[LETSS]</td>\n",
       "    </tr>\n",
       "    <tr>\n",
       "      <th>1</th>\n",
       "      <td>CompanyName</td>\n",
       "      <td>object</td>\n",
       "      <td>2149</td>\n",
       "      <td>0</td>\n",
       "      <td>0.0</td>\n",
       "      <td>89</td>\n",
       "      <td>[Magazzini Alimentari Riuniti]</td>\n",
       "    </tr>\n",
       "    <tr>\n",
       "      <th>2</th>\n",
       "      <td>Country</td>\n",
       "      <td>object</td>\n",
       "      <td>2149</td>\n",
       "      <td>0</td>\n",
       "      <td>0.0</td>\n",
       "      <td>21</td>\n",
       "      <td>[France]</td>\n",
       "    </tr>\n",
       "    <tr>\n",
       "      <th>3</th>\n",
       "      <td>OrderYear</td>\n",
       "      <td>int64</td>\n",
       "      <td>2149</td>\n",
       "      <td>0</td>\n",
       "      <td>0.0</td>\n",
       "      <td>3</td>\n",
       "      <td>[1996]</td>\n",
       "    </tr>\n",
       "    <tr>\n",
       "      <th>4</th>\n",
       "      <td>Product</td>\n",
       "      <td>object</td>\n",
       "      <td>2149</td>\n",
       "      <td>0</td>\n",
       "      <td>0.0</td>\n",
       "      <td>77</td>\n",
       "      <td>[Gustaf's Knckebrd]</td>\n",
       "    </tr>\n",
       "    <tr>\n",
       "      <th>5</th>\n",
       "      <td>Category</td>\n",
       "      <td>object</td>\n",
       "      <td>2149</td>\n",
       "      <td>0</td>\n",
       "      <td>0.0</td>\n",
       "      <td>8</td>\n",
       "      <td>[Meat/Poultry]</td>\n",
       "    </tr>\n",
       "    <tr>\n",
       "      <th>6</th>\n",
       "      <td>InitialPrice</td>\n",
       "      <td>float64</td>\n",
       "      <td>2149</td>\n",
       "      <td>0</td>\n",
       "      <td>0.0</td>\n",
       "      <td>62</td>\n",
       "      <td>[10.0]</td>\n",
       "    </tr>\n",
       "    <tr>\n",
       "      <th>7</th>\n",
       "      <td>BidPrice</td>\n",
       "      <td>float64</td>\n",
       "      <td>2149</td>\n",
       "      <td>0</td>\n",
       "      <td>0.0</td>\n",
       "      <td>116</td>\n",
       "      <td>[13.9]</td>\n",
       "    </tr>\n",
       "    <tr>\n",
       "      <th>8</th>\n",
       "      <td>Quantity</td>\n",
       "      <td>int64</td>\n",
       "      <td>2149</td>\n",
       "      <td>0</td>\n",
       "      <td>0.0</td>\n",
       "      <td>55</td>\n",
       "      <td>[91]</td>\n",
       "    </tr>\n",
       "    <tr>\n",
       "      <th>9</th>\n",
       "      <td>Unitsinstock</td>\n",
       "      <td>int64</td>\n",
       "      <td>2149</td>\n",
       "      <td>0</td>\n",
       "      <td>0.0</td>\n",
       "      <td>51</td>\n",
       "      <td>[85]</td>\n",
       "    </tr>\n",
       "    <tr>\n",
       "      <th>10</th>\n",
       "      <td>Unitsonorder</td>\n",
       "      <td>int64</td>\n",
       "      <td>2149</td>\n",
       "      <td>0</td>\n",
       "      <td>0.0</td>\n",
       "      <td>10</td>\n",
       "      <td>[70]</td>\n",
       "    </tr>\n",
       "    <tr>\n",
       "      <th>11</th>\n",
       "      <td>DiffPrice</td>\n",
       "      <td>float64</td>\n",
       "      <td>2149</td>\n",
       "      <td>0</td>\n",
       "      <td>0.0</td>\n",
       "      <td>60</td>\n",
       "      <td>[1.55]</td>\n",
       "    </tr>\n",
       "    <tr>\n",
       "      <th>12</th>\n",
       "      <td>Reorderlevel</td>\n",
       "      <td>int64</td>\n",
       "      <td>2149</td>\n",
       "      <td>0</td>\n",
       "      <td>0.0</td>\n",
       "      <td>7</td>\n",
       "      <td>[10]</td>\n",
       "    </tr>\n",
       "    <tr>\n",
       "      <th>13</th>\n",
       "      <td>Discontinued</td>\n",
       "      <td>int64</td>\n",
       "      <td>2149</td>\n",
       "      <td>0</td>\n",
       "      <td>0.0</td>\n",
       "      <td>2</td>\n",
       "      <td>[1]</td>\n",
       "    </tr>\n",
       "    <tr>\n",
       "      <th>14</th>\n",
       "      <td>TotalPrice</td>\n",
       "      <td>float64</td>\n",
       "      <td>2149</td>\n",
       "      <td>0</td>\n",
       "      <td>0.0</td>\n",
       "      <td>860</td>\n",
       "      <td>[199.5]</td>\n",
       "    </tr>\n",
       "  </tbody>\n",
       "</table>\n",
       "</div>"
      ],
      "text/plain": [
       "     Column Name Data Type  Data Count  Missing Value  \\\n",
       "0     CustomerID    object        2149              0   \n",
       "1    CompanyName    object        2149              0   \n",
       "2        Country    object        2149              0   \n",
       "3      OrderYear     int64        2149              0   \n",
       "4        Product    object        2149              0   \n",
       "5       Category    object        2149              0   \n",
       "6   InitialPrice   float64        2149              0   \n",
       "7       BidPrice   float64        2149              0   \n",
       "8       Quantity     int64        2149              0   \n",
       "9   Unitsinstock     int64        2149              0   \n",
       "10  Unitsonorder     int64        2149              0   \n",
       "11     DiffPrice   float64        2149              0   \n",
       "12  Reorderlevel     int64        2149              0   \n",
       "13  Discontinued     int64        2149              0   \n",
       "14    TotalPrice   float64        2149              0   \n",
       "\n",
       "    Missing Value Percentage  Number of Unique                   Unique Sample  \n",
       "0                        0.0                89                         [LETSS]  \n",
       "1                        0.0                89  [Magazzini Alimentari Riuniti]  \n",
       "2                        0.0                21                        [France]  \n",
       "3                        0.0                 3                          [1996]  \n",
       "4                        0.0                77             [Gustaf's Knckebrd]  \n",
       "5                        0.0                 8                  [Meat/Poultry]  \n",
       "6                        0.0                62                          [10.0]  \n",
       "7                        0.0               116                          [13.9]  \n",
       "8                        0.0                55                            [91]  \n",
       "9                        0.0                51                            [85]  \n",
       "10                       0.0                10                            [70]  \n",
       "11                       0.0                60                          [1.55]  \n",
       "12                       0.0                 7                            [10]  \n",
       "13                       0.0                 2                             [1]  \n",
       "14                       0.0               860                         [199.5]  "
      ]
     },
     "execution_count": 475,
     "metadata": {},
     "output_type": "execute_result"
    }
   ],
   "source": [
    "tabel1Desc"
   ]
  },
  {
   "cell_type": "markdown",
   "id": "a8c89161",
   "metadata": {},
   "source": [
    "# Check Outlier OrderPrice"
   ]
  },
  {
   "cell_type": "code",
   "execution_count": 476,
   "id": "8de8646c",
   "metadata": {},
   "outputs": [],
   "source": [
    "Q1 = tabel1.describe()['TotalPrice']['25%']\n",
    "Q3 = tabel1.describe()['TotalPrice']['75%']\n",
    "\n",
    "IQR = Q3 - Q1\n",
    "\n",
    "LowerPrice = Q1 - (1.5 * IQR)\n",
    "UpperPrice = Q3 + (1.5 * IQR)\n",
    "\n",
    "outlier_index = tabel1[(tabel1['TotalPrice'] < LowerPrice) | (tabel1['TotalPrice'] > UpperPrice)]"
   ]
  },
  {
   "cell_type": "code",
   "execution_count": 477,
   "id": "d936aa2e",
   "metadata": {},
   "outputs": [
    {
     "data": {
      "text/html": [
       "<div>\n",
       "<style scoped>\n",
       "    .dataframe tbody tr th:only-of-type {\n",
       "        vertical-align: middle;\n",
       "    }\n",
       "\n",
       "    .dataframe tbody tr th {\n",
       "        vertical-align: top;\n",
       "    }\n",
       "\n",
       "    .dataframe thead th {\n",
       "        text-align: right;\n",
       "    }\n",
       "</style>\n",
       "<table border=\"1\" class=\"dataframe\">\n",
       "  <thead>\n",
       "    <tr style=\"text-align: right;\">\n",
       "      <th></th>\n",
       "      <th>CustomerID</th>\n",
       "      <th>CompanyName</th>\n",
       "      <th>Country</th>\n",
       "      <th>OrderYear</th>\n",
       "      <th>Product</th>\n",
       "      <th>Category</th>\n",
       "      <th>InitialPrice</th>\n",
       "      <th>BidPrice</th>\n",
       "      <th>Quantity</th>\n",
       "      <th>Unitsinstock</th>\n",
       "      <th>Unitsonorder</th>\n",
       "      <th>DiffPrice</th>\n",
       "      <th>Reorderlevel</th>\n",
       "      <th>Discontinued</th>\n",
       "      <th>TotalPrice</th>\n",
       "    </tr>\n",
       "  </thead>\n",
       "  <tbody>\n",
       "    <tr>\n",
       "      <th>75</th>\n",
       "      <td>SAVEA</td>\n",
       "      <td>Save-a-lot Markets</td>\n",
       "      <td>USA</td>\n",
       "      <td>1998</td>\n",
       "      <td>Chang</td>\n",
       "      <td>Beverages</td>\n",
       "      <td>19.0</td>\n",
       "      <td>19.0</td>\n",
       "      <td>100</td>\n",
       "      <td>17</td>\n",
       "      <td>40</td>\n",
       "      <td>0.0</td>\n",
       "      <td>25</td>\n",
       "      <td>0</td>\n",
       "      <td>1900.0</td>\n",
       "    </tr>\n",
       "    <tr>\n",
       "      <th>188</th>\n",
       "      <td>SPLIR</td>\n",
       "      <td>Split Rail Beer &amp; Ale</td>\n",
       "      <td>USA</td>\n",
       "      <td>1996</td>\n",
       "      <td>Cte de Blaye</td>\n",
       "      <td>Beverages</td>\n",
       "      <td>263.5</td>\n",
       "      <td>210.8</td>\n",
       "      <td>20</td>\n",
       "      <td>17</td>\n",
       "      <td>0</td>\n",
       "      <td>52.7</td>\n",
       "      <td>15</td>\n",
       "      <td>0</td>\n",
       "      <td>4216.0</td>\n",
       "    </tr>\n",
       "    <tr>\n",
       "      <th>189</th>\n",
       "      <td>ERNSH</td>\n",
       "      <td>Ernst Handel</td>\n",
       "      <td>Austria</td>\n",
       "      <td>1996</td>\n",
       "      <td>Cte de Blaye</td>\n",
       "      <td>Beverages</td>\n",
       "      <td>263.5</td>\n",
       "      <td>210.8</td>\n",
       "      <td>20</td>\n",
       "      <td>17</td>\n",
       "      <td>0</td>\n",
       "      <td>52.7</td>\n",
       "      <td>15</td>\n",
       "      <td>0</td>\n",
       "      <td>4216.0</td>\n",
       "    </tr>\n",
       "    <tr>\n",
       "      <th>190</th>\n",
       "      <td>PICCO</td>\n",
       "      <td>Piccolo und mehr</td>\n",
       "      <td>Austria</td>\n",
       "      <td>1996</td>\n",
       "      <td>Cte de Blaye</td>\n",
       "      <td>Beverages</td>\n",
       "      <td>263.5</td>\n",
       "      <td>210.8</td>\n",
       "      <td>50</td>\n",
       "      <td>17</td>\n",
       "      <td>0</td>\n",
       "      <td>52.7</td>\n",
       "      <td>15</td>\n",
       "      <td>0</td>\n",
       "      <td>10540.0</td>\n",
       "    </tr>\n",
       "    <tr>\n",
       "      <th>191</th>\n",
       "      <td>BLONP</td>\n",
       "      <td>Blondesddsl pre et fils</td>\n",
       "      <td>France</td>\n",
       "      <td>1996</td>\n",
       "      <td>Cte de Blaye</td>\n",
       "      <td>Beverages</td>\n",
       "      <td>263.5</td>\n",
       "      <td>210.8</td>\n",
       "      <td>10</td>\n",
       "      <td>17</td>\n",
       "      <td>0</td>\n",
       "      <td>52.7</td>\n",
       "      <td>15</td>\n",
       "      <td>0</td>\n",
       "      <td>2108.0</td>\n",
       "    </tr>\n",
       "    <tr>\n",
       "      <th>...</th>\n",
       "      <td>...</td>\n",
       "      <td>...</td>\n",
       "      <td>...</td>\n",
       "      <td>...</td>\n",
       "      <td>...</td>\n",
       "      <td>...</td>\n",
       "      <td>...</td>\n",
       "      <td>...</td>\n",
       "      <td>...</td>\n",
       "      <td>...</td>\n",
       "      <td>...</td>\n",
       "      <td>...</td>\n",
       "      <td>...</td>\n",
       "      <td>...</td>\n",
       "      <td>...</td>\n",
       "    </tr>\n",
       "    <tr>\n",
       "      <th>1906</th>\n",
       "      <td>QUICK</td>\n",
       "      <td>QUICK-Stop</td>\n",
       "      <td>Germany</td>\n",
       "      <td>1997</td>\n",
       "      <td>Carnarvon Tigers</td>\n",
       "      <td>Seafood</td>\n",
       "      <td>62.5</td>\n",
       "      <td>62.5</td>\n",
       "      <td>40</td>\n",
       "      <td>42</td>\n",
       "      <td>0</td>\n",
       "      <td>0.0</td>\n",
       "      <td>0</td>\n",
       "      <td>0</td>\n",
       "      <td>2500.0</td>\n",
       "    </tr>\n",
       "    <tr>\n",
       "      <th>1907</th>\n",
       "      <td>FOLIG</td>\n",
       "      <td>Folies gourmandes</td>\n",
       "      <td>France</td>\n",
       "      <td>1997</td>\n",
       "      <td>Carnarvon Tigers</td>\n",
       "      <td>Seafood</td>\n",
       "      <td>62.5</td>\n",
       "      <td>62.5</td>\n",
       "      <td>50</td>\n",
       "      <td>42</td>\n",
       "      <td>0</td>\n",
       "      <td>0.0</td>\n",
       "      <td>0</td>\n",
       "      <td>0</td>\n",
       "      <td>3125.0</td>\n",
       "    </tr>\n",
       "    <tr>\n",
       "      <th>1914</th>\n",
       "      <td>FOLIG</td>\n",
       "      <td>Folies gourmandes</td>\n",
       "      <td>France</td>\n",
       "      <td>1998</td>\n",
       "      <td>Carnarvon Tigers</td>\n",
       "      <td>Seafood</td>\n",
       "      <td>62.5</td>\n",
       "      <td>62.5</td>\n",
       "      <td>30</td>\n",
       "      <td>42</td>\n",
       "      <td>0</td>\n",
       "      <td>0.0</td>\n",
       "      <td>0</td>\n",
       "      <td>0</td>\n",
       "      <td>1875.0</td>\n",
       "    </tr>\n",
       "    <tr>\n",
       "      <th>1924</th>\n",
       "      <td>PICCO</td>\n",
       "      <td>Piccolo und mehr</td>\n",
       "      <td>Austria</td>\n",
       "      <td>1998</td>\n",
       "      <td>Carnarvon Tigers</td>\n",
       "      <td>Seafood</td>\n",
       "      <td>62.5</td>\n",
       "      <td>62.5</td>\n",
       "      <td>35</td>\n",
       "      <td>42</td>\n",
       "      <td>0</td>\n",
       "      <td>0.0</td>\n",
       "      <td>0</td>\n",
       "      <td>0</td>\n",
       "      <td>2187.5</td>\n",
       "    </tr>\n",
       "    <tr>\n",
       "      <th>2029</th>\n",
       "      <td>ERNSH</td>\n",
       "      <td>Ernst Handel</td>\n",
       "      <td>Austria</td>\n",
       "      <td>1998</td>\n",
       "      <td>Boston Crab Meat</td>\n",
       "      <td>Seafood</td>\n",
       "      <td>18.4</td>\n",
       "      <td>18.4</td>\n",
       "      <td>91</td>\n",
       "      <td>123</td>\n",
       "      <td>0</td>\n",
       "      <td>0.0</td>\n",
       "      <td>30</td>\n",
       "      <td>0</td>\n",
       "      <td>1674.4</td>\n",
       "    </tr>\n",
       "  </tbody>\n",
       "</table>\n",
       "<p>160 rows × 15 columns</p>\n",
       "</div>"
      ],
      "text/plain": [
       "     CustomerID              CompanyName  Country  OrderYear  \\\n",
       "75        SAVEA       Save-a-lot Markets      USA       1998   \n",
       "188       SPLIR    Split Rail Beer & Ale      USA       1996   \n",
       "189       ERNSH             Ernst Handel  Austria       1996   \n",
       "190       PICCO         Piccolo und mehr  Austria       1996   \n",
       "191       BLONP  Blondesddsl pre et fils   France       1996   \n",
       "...         ...                      ...      ...        ...   \n",
       "1906      QUICK               QUICK-Stop  Germany       1997   \n",
       "1907      FOLIG        Folies gourmandes   France       1997   \n",
       "1914      FOLIG        Folies gourmandes   France       1998   \n",
       "1924      PICCO         Piccolo und mehr  Austria       1998   \n",
       "2029      ERNSH             Ernst Handel  Austria       1998   \n",
       "\n",
       "               Product   Category  InitialPrice  BidPrice  Quantity  \\\n",
       "75               Chang  Beverages          19.0      19.0       100   \n",
       "188       Cte de Blaye  Beverages         263.5     210.8        20   \n",
       "189       Cte de Blaye  Beverages         263.5     210.8        20   \n",
       "190       Cte de Blaye  Beverages         263.5     210.8        50   \n",
       "191       Cte de Blaye  Beverages         263.5     210.8        10   \n",
       "...                ...        ...           ...       ...       ...   \n",
       "1906  Carnarvon Tigers    Seafood          62.5      62.5        40   \n",
       "1907  Carnarvon Tigers    Seafood          62.5      62.5        50   \n",
       "1914  Carnarvon Tigers    Seafood          62.5      62.5        30   \n",
       "1924  Carnarvon Tigers    Seafood          62.5      62.5        35   \n",
       "2029  Boston Crab Meat    Seafood          18.4      18.4        91   \n",
       "\n",
       "      Unitsinstock  Unitsonorder  DiffPrice  Reorderlevel  Discontinued  \\\n",
       "75              17            40        0.0            25             0   \n",
       "188             17             0       52.7            15             0   \n",
       "189             17             0       52.7            15             0   \n",
       "190             17             0       52.7            15             0   \n",
       "191             17             0       52.7            15             0   \n",
       "...            ...           ...        ...           ...           ...   \n",
       "1906            42             0        0.0             0             0   \n",
       "1907            42             0        0.0             0             0   \n",
       "1914            42             0        0.0             0             0   \n",
       "1924            42             0        0.0             0             0   \n",
       "2029           123             0        0.0            30             0   \n",
       "\n",
       "      TotalPrice  \n",
       "75        1900.0  \n",
       "188       4216.0  \n",
       "189       4216.0  \n",
       "190      10540.0  \n",
       "191       2108.0  \n",
       "...          ...  \n",
       "1906      2500.0  \n",
       "1907      3125.0  \n",
       "1914      1875.0  \n",
       "1924      2187.5  \n",
       "2029      1674.4  \n",
       "\n",
       "[160 rows x 15 columns]"
      ]
     },
     "execution_count": 477,
     "metadata": {},
     "output_type": "execute_result"
    }
   ],
   "source": [
    "outlier_index"
   ]
  },
  {
   "cell_type": "code",
   "execution_count": 491,
   "id": "e450a200",
   "metadata": {},
   "outputs": [
    {
     "data": {
      "text/html": [
       "<div>\n",
       "<style scoped>\n",
       "    .dataframe tbody tr th:only-of-type {\n",
       "        vertical-align: middle;\n",
       "    }\n",
       "\n",
       "    .dataframe tbody tr th {\n",
       "        vertical-align: top;\n",
       "    }\n",
       "\n",
       "    .dataframe thead th {\n",
       "        text-align: right;\n",
       "    }\n",
       "</style>\n",
       "<table border=\"1\" class=\"dataframe\">\n",
       "  <thead>\n",
       "    <tr style=\"text-align: right;\">\n",
       "      <th></th>\n",
       "      <th>OrderYear</th>\n",
       "      <th>InitialPrice</th>\n",
       "      <th>BidPrice</th>\n",
       "      <th>Quantity</th>\n",
       "      <th>Unitsinstock</th>\n",
       "      <th>Unitsonorder</th>\n",
       "      <th>DiffPrice</th>\n",
       "      <th>Reorderlevel</th>\n",
       "      <th>Discontinued</th>\n",
       "      <th>TotalPrice</th>\n",
       "    </tr>\n",
       "  </thead>\n",
       "  <tbody>\n",
       "    <tr>\n",
       "      <th>count</th>\n",
       "      <td>2149.000000</td>\n",
       "      <td>2149.000000</td>\n",
       "      <td>2149.000000</td>\n",
       "      <td>2149.000000</td>\n",
       "      <td>2149.000000</td>\n",
       "      <td>2149.000000</td>\n",
       "      <td>2149.000000</td>\n",
       "      <td>2149.000000</td>\n",
       "      <td>2149.000000</td>\n",
       "      <td>2149.000000</td>\n",
       "    </tr>\n",
       "    <tr>\n",
       "      <th>mean</th>\n",
       "      <td>1997.212657</td>\n",
       "      <td>27.969972</td>\n",
       "      <td>26.237859</td>\n",
       "      <td>23.804560</td>\n",
       "      <td>39.853886</td>\n",
       "      <td>8.059563</td>\n",
       "      <td>1.732113</td>\n",
       "      <td>11.898557</td>\n",
       "      <td>0.105631</td>\n",
       "      <td>628.943295</td>\n",
       "    </tr>\n",
       "    <tr>\n",
       "      <th>std</th>\n",
       "      <td>0.686331</td>\n",
       "      <td>31.649768</td>\n",
       "      <td>29.864946</td>\n",
       "      <td>19.039114</td>\n",
       "      <td>36.085018</td>\n",
       "      <td>19.728232</td>\n",
       "      <td>4.435637</td>\n",
       "      <td>10.791616</td>\n",
       "      <td>0.307436</td>\n",
       "      <td>1037.864088</td>\n",
       "    </tr>\n",
       "    <tr>\n",
       "      <th>min</th>\n",
       "      <td>1996.000000</td>\n",
       "      <td>2.500000</td>\n",
       "      <td>2.000000</td>\n",
       "      <td>1.000000</td>\n",
       "      <td>0.000000</td>\n",
       "      <td>0.000000</td>\n",
       "      <td>0.000000</td>\n",
       "      <td>0.000000</td>\n",
       "      <td>0.000000</td>\n",
       "      <td>4.800000</td>\n",
       "    </tr>\n",
       "    <tr>\n",
       "      <th>25%</th>\n",
       "      <td>1997.000000</td>\n",
       "      <td>12.500000</td>\n",
       "      <td>12.000000</td>\n",
       "      <td>10.000000</td>\n",
       "      <td>17.000000</td>\n",
       "      <td>0.000000</td>\n",
       "      <td>0.000000</td>\n",
       "      <td>0.000000</td>\n",
       "      <td>0.000000</td>\n",
       "      <td>153.600000</td>\n",
       "    </tr>\n",
       "    <tr>\n",
       "      <th>50%</th>\n",
       "      <td>1997.000000</td>\n",
       "      <td>19.450000</td>\n",
       "      <td>18.400000</td>\n",
       "      <td>20.000000</td>\n",
       "      <td>25.000000</td>\n",
       "      <td>0.000000</td>\n",
       "      <td>0.000000</td>\n",
       "      <td>10.000000</td>\n",
       "      <td>0.000000</td>\n",
       "      <td>360.000000</td>\n",
       "    </tr>\n",
       "    <tr>\n",
       "      <th>75%</th>\n",
       "      <td>1998.000000</td>\n",
       "      <td>34.000000</td>\n",
       "      <td>32.000000</td>\n",
       "      <td>30.000000</td>\n",
       "      <td>57.000000</td>\n",
       "      <td>0.000000</td>\n",
       "      <td>2.000000</td>\n",
       "      <td>20.000000</td>\n",
       "      <td>0.000000</td>\n",
       "      <td>728.000000</td>\n",
       "    </tr>\n",
       "    <tr>\n",
       "      <th>max</th>\n",
       "      <td>1998.000000</td>\n",
       "      <td>263.500000</td>\n",
       "      <td>263.500000</td>\n",
       "      <td>130.000000</td>\n",
       "      <td>125.000000</td>\n",
       "      <td>100.000000</td>\n",
       "      <td>52.700000</td>\n",
       "      <td>30.000000</td>\n",
       "      <td>1.000000</td>\n",
       "      <td>15810.000000</td>\n",
       "    </tr>\n",
       "  </tbody>\n",
       "</table>\n",
       "</div>"
      ],
      "text/plain": [
       "         OrderYear  InitialPrice     BidPrice     Quantity  Unitsinstock  \\\n",
       "count  2149.000000   2149.000000  2149.000000  2149.000000   2149.000000   \n",
       "mean   1997.212657     27.969972    26.237859    23.804560     39.853886   \n",
       "std       0.686331     31.649768    29.864946    19.039114     36.085018   \n",
       "min    1996.000000      2.500000     2.000000     1.000000      0.000000   \n",
       "25%    1997.000000     12.500000    12.000000    10.000000     17.000000   \n",
       "50%    1997.000000     19.450000    18.400000    20.000000     25.000000   \n",
       "75%    1998.000000     34.000000    32.000000    30.000000     57.000000   \n",
       "max    1998.000000    263.500000   263.500000   130.000000    125.000000   \n",
       "\n",
       "       Unitsonorder    DiffPrice  Reorderlevel  Discontinued    TotalPrice  \n",
       "count   2149.000000  2149.000000   2149.000000   2149.000000   2149.000000  \n",
       "mean       8.059563     1.732113     11.898557      0.105631    628.943295  \n",
       "std       19.728232     4.435637     10.791616      0.307436   1037.864088  \n",
       "min        0.000000     0.000000      0.000000      0.000000      4.800000  \n",
       "25%        0.000000     0.000000      0.000000      0.000000    153.600000  \n",
       "50%        0.000000     0.000000     10.000000      0.000000    360.000000  \n",
       "75%        0.000000     2.000000     20.000000      0.000000    728.000000  \n",
       "max      100.000000    52.700000     30.000000      1.000000  15810.000000  "
      ]
     },
     "execution_count": 491,
     "metadata": {},
     "output_type": "execute_result"
    }
   ],
   "source": [
    "tabel1.describe()"
   ]
  },
  {
   "cell_type": "code",
   "execution_count": 492,
   "id": "a058bb8f",
   "metadata": {},
   "outputs": [
    {
     "data": {
      "image/png": "[encoded data removed]",
      "text/plain": [
       "<Figure size 1080x720 with 1 Axes>"
      ]
     },
     "metadata": {},
     "output_type": "display_data"
    }
   ],
   "source": [
    "plt.figure(figsize = (15,10))\n",
    "sns.distplot(tabel1['TotalPrice'])\n",
    "plt.show()"
   ]
  },
  {
   "cell_type": "code",
   "execution_count": 493,
   "id": "4753a8a1",
   "metadata": {},
   "outputs": [
    {
     "data": {
      "image/png": "[encoded data removed]",
      "text/plain": [
       "<Figure size 576x396 with 1 Axes>"
      ]
     },
     "metadata": {},
     "output_type": "display_data"
    }
   ],
   "source": [
    "# Outlier Check With Function\n",
    "sns.boxplot(data = tabel1, x = 'TotalPrice')\n",
    "plt.xlabel('TotalPrice')\n",
    "plt.show()"
   ]
  },
  {
   "cell_type": "markdown",
   "id": "8be04d78",
   "metadata": {},
   "source": [
    "### Penjelasan\n",
    "Menguji data yang dianggap memiliki outlier dengan menggunakan IQR. Dengan **syarat** :\n",
    "- nilai dibawah Q1 - 1,5*IQR\n",
    "- nilai diatas Q3 + 1,5*IQR"
   ]
  },
  {
   "cell_type": "markdown",
   "id": "0a7116d0",
   "metadata": {},
   "source": [
    "# **Data Visualization & Statistics**"
   ]
  },
  {
   "cell_type": "markdown",
   "id": "28c0ec7f",
   "metadata": {},
   "source": [
    "## Top 5 Loyal Customer"
   ]
  },
  {
   "cell_type": "code",
   "execution_count": 494,
   "id": "d2c8ba15",
   "metadata": {},
   "outputs": [],
   "source": [
    "import plotly.express as px\n",
    "import matplotlib.pyplot as plt\n",
    "import seaborn as sns"
   ]
  },
  {
   "cell_type": "code",
   "execution_count": 495,
   "id": "9e018e92",
   "metadata": {},
   "outputs": [
    {
     "data": {
      "application/vnd.plotly.v1+json": {
       "config": {
        "plotlyServerURL": "https://plot.ly"
       },
       "data": [
        {
         "alignmentgroup": "True",
         "hovertemplate": "variable=CompanyName<br>index=%{x}<br>value=%{y}<extra></extra>",
         "legendgroup": "CompanyName",
         "marker": {
          "color": "#636efa"
         },
         "name": "CompanyName",
         "offsetgroup": "CompanyName",
         "orientation": "v",
         "showlegend": true,
         "textposition": "auto",
         "type": "bar",
         "x": [
          "Save-a-lot Markets",
          "Ernst Handel",
          "QUICK-Stop",
          "Rattlesnake Canyon Grocery",
          "Hungry Owl All-Night Grocers"
         ],
         "xaxis": "x",
         "y": [
          116,
          102,
          86,
          71,
          55
         ],
         "yaxis": "y"
        }
       ],
       "layout": {
        "barmode": "relative",
        "legend": {
         "title": {
          "text": "variable"
         },
         "tracegroupgap": 0
        },
        "template": {
         "data": {
          "bar": [
           {
            "error_x": {
             "color": "#2a3f5f"
            },
            "error_y": {
             "color": "#2a3f5f"
            },
            "marker": {
             "line": {
              "color": "#E5ECF6",
              "width": 0.5
             }
            },
            "type": "bar"
           }
          ],
          "barpolar": [
           {
            "marker": {
             "line": {
              "color": "#E5ECF6",
              "width": 0.5
             }
            },
            "type": "barpolar"
           }
          ],
          "carpet": [
           {
            "aaxis": {
             "endlinecolor": "#2a3f5f",
             "gridcolor": "white",
             "linecolor": "white",
             "minorgridcolor": "white",
             "startlinecolor": "#2a3f5f"
            },
            "baxis": {
             "endlinecolor": "#2a3f5f",
             "gridcolor": "white",
             "linecolor": "white",
             "minorgridcolor": "white",
             "startlinecolor": "#2a3f5f"
            },
            "type": "carpet"
           }
          ],
          "choropleth": [
           {
            "colorbar": {
             "outlinewidth": 0,
             "ticks": ""
            },
            "type": "choropleth"
           }
          ],
          "contour": [
           {
            "colorbar": {
             "outlinewidth": 0,
             "ticks": ""
            },
            "colorscale": [
             [
              0,
              "#0d0887"
             ],
             [
              0.1111111111111111,
              "#46039f"
             ],
             [
              0.2222222222222222,
              "#7201a8"
             ],
             [
              0.3333333333333333,
              "#9c179e"
             ],
             [
              0.4444444444444444,
              "#bd3786"
             ],
             [
              0.5555555555555556,
              "#d8576b"
             ],
             [
              0.6666666666666666,
              "#ed7953"
             ],
             [
              0.7777777777777778,
              "#fb9f3a"
             ],
             [
              0.8888888888888888,
              "#fdca26"
             ],
             [
              1,
              "#f0f921"
             ]
            ],
            "type": "contour"
           }
          ],
          "contourcarpet": [
           {
            "colorbar": {
             "outlinewidth": 0,
             "ticks": ""
            },
            "type": "contourcarpet"
           }
          ],
          "heatmap": [
           {
            "colorbar": {
             "outlinewidth": 0,
             "ticks": ""
            },
            "colorscale": [
             [
              0,
              "#0d0887"
             ],
             [
              0.1111111111111111,
              "#46039f"
             ],
             [
              0.2222222222222222,
              "#7201a8"
             ],
             [
              0.3333333333333333,
              "#9c179e"
             ],
             [
              0.4444444444444444,
              "#bd3786"
             ],
             [
              0.5555555555555556,
              "#d8576b"
             ],
             [
              0.6666666666666666,
              "#ed7953"
             ],
             [
              0.7777777777777778,
              "#fb9f3a"
             ],
             [
              0.8888888888888888,
              "#fdca26"
             ],
             [
              1,
              "#f0f921"
             ]
            ],
            "type": "heatmap"
           }
          ],
          "heatmapgl": [
           {
            "colorbar": {
             "outlinewidth": 0,
             "ticks": ""
            },
            "colorscale": [
             [
              0,
              "#0d0887"
             ],
             [
              0.1111111111111111,
              "#46039f"
             ],
             [
              0.2222222222222222,
              "#7201a8"
             ],
             [
              0.3333333333333333,
              "#9c179e"
             ],
             [
              0.4444444444444444,
              "#bd3786"
             ],
             [
              0.5555555555555556,
              "#d8576b"
             ],
             [
              0.6666666666666666,
              "#ed7953"
             ],
             [
              0.7777777777777778,
              "#fb9f3a"
             ],
             [
              0.8888888888888888,
              "#fdca26"
             ],
             [
              1,
              "#f0f921"
             ]
            ],
            "type": "heatmapgl"
           }
          ],
          "histogram": [
           {
            "marker": {
             "colorbar": {
              "outlinewidth": 0,
              "ticks": ""
             }
            },
            "type": "histogram"
           }
          ],
          "histogram2d": [
           {
            "colorbar": {
             "outlinewidth": 0,
             "ticks": ""
            },
            "colorscale": [
             [
              0,
              "#0d0887"
             ],
             [
              0.1111111111111111,
              "#46039f"
             ],
             [
              0.2222222222222222,
              "#7201a8"
             ],
             [
              0.3333333333333333,
              "#9c179e"
             ],
             [
              0.4444444444444444,
              "#bd3786"
             ],
             [
              0.5555555555555556,
              "#d8576b"
             ],
             [
              0.6666666666666666,
              "#ed7953"
             ],
             [
              0.7777777777777778,
              "#fb9f3a"
             ],
             [
              0.8888888888888888,
              "#fdca26"
             ],
             [
              1,
              "#f0f921"
             ]
            ],
            "type": "histogram2d"
           }
          ],
          "histogram2dcontour": [
           {
            "colorbar": {
             "outlinewidth": 0,
             "ticks": ""
            },
            "colorscale": [
             [
              0,
              "#0d0887"
             ],
             [
              0.1111111111111111,
              "#46039f"
             ],
             [
              0.2222222222222222,
              "#7201a8"
             ],
             [
              0.3333333333333333,
              "#9c179e"
             ],
             [
              0.4444444444444444,
              "#bd3786"
             ],
             [
              0.5555555555555556,
              "#d8576b"
             ],
             [
              0.6666666666666666,
              "#ed7953"
             ],
             [
              0.7777777777777778,
              "#fb9f3a"
             ],
             [
              0.8888888888888888,
              "#fdca26"
             ],
             [
              1,
              "#f0f921"
             ]
            ],
            "type": "histogram2dcontour"
           }
          ],
          "mesh3d": [
           {
            "colorbar": {
             "outlinewidth": 0,
             "ticks": ""
            },
            "type": "mesh3d"
           }
          ],
          "parcoords": [
           {
            "line": {
             "colorbar": {
              "outlinewidth": 0,
              "ticks": ""
             }
            },
            "type": "parcoords"
           }
          ],
          "pie": [
           {
            "automargin": true,
            "type": "pie"
           }
          ],
          "scatter": [
           {
            "marker": {
             "colorbar": {
              "outlinewidth": 0,
              "ticks": ""
             }
            },
            "type": "scatter"
           }
          ],
          "scatter3d": [
           {
            "line": {
             "colorbar": {
              "outlinewidth": 0,
              "ticks": ""
             }
            },
            "marker": {
             "colorbar": {
              "outlinewidth": 0,
              "ticks": ""
             }
            },
            "type": "scatter3d"
           }
          ],
          "scattercarpet": [
           {
            "marker": {
             "colorbar": {
              "outlinewidth": 0,
              "ticks": ""
             }
            },
            "type": "scattercarpet"
           }
          ],
          "scattergeo": [
           {
            "marker": {
             "colorbar": {
              "outlinewidth": 0,
              "ticks": ""
             }
            },
            "type": "scattergeo"
           }
          ],
          "scattergl": [
           {
            "marker": {
             "colorbar": {
              "outlinewidth": 0,
              "ticks": ""
             }
            },
            "type": "scattergl"
           }
          ],
          "scattermapbox": [
           {
            "marker": {
             "colorbar": {
              "outlinewidth": 0,
              "ticks": ""
             }
            },
            "type": "scattermapbox"
           }
          ],
          "scatterpolar": [
           {
            "marker": {
             "colorbar": {
              "outlinewidth": 0,
              "ticks": ""
             }
            },
            "type": "scatterpolar"
           }
          ],
          "scatterpolargl": [
           {
            "marker": {
             "colorbar": {
              "outlinewidth": 0,
              "ticks": ""
             }
            },
            "type": "scatterpolargl"
           }
          ],
          "scatterternary": [
           {
            "marker": {
             "colorbar": {
              "outlinewidth": 0,
              "ticks": ""
             }
            },
            "type": "scatterternary"
           }
          ],
          "surface": [
           {
            "colorbar": {
             "outlinewidth": 0,
             "ticks": ""
            },
            "colorscale": [
             [
              0,
              "#0d0887"
             ],
             [
              0.1111111111111111,
              "#46039f"
             ],
             [
              0.2222222222222222,
              "#7201a8"
             ],
             [
              0.3333333333333333,
              "#9c179e"
             ],
             [
              0.4444444444444444,
              "#bd3786"
             ],
             [
              0.5555555555555556,
              "#d8576b"
             ],
             [
              0.6666666666666666,
              "#ed7953"
             ],
             [
              0.7777777777777778,
              "#fb9f3a"
             ],
             [
              0.8888888888888888,
              "#fdca26"
             ],
             [
              1,
              "#f0f921"
             ]
            ],
            "type": "surface"
           }
          ],
          "table": [
           {
            "cells": {
             "fill": {
              "color": "#EBF0F8"
             },
             "line": {
              "color": "white"
             }
            },
            "header": {
             "fill": {
              "color": "#C8D4E3"
             },
             "line": {
              "color": "white"
             }
            },
            "type": "table"
           }
          ]
         },
         "layout": {
          "annotationdefaults": {
           "arrowcolor": "#2a3f5f",
           "arrowhead": 0,
           "arrowwidth": 1
          },
          "autotypenumbers": "strict",
          "coloraxis": {
           "colorbar": {
            "outlinewidth": 0,
            "ticks": ""
           }
          },
          "colorscale": {
           "diverging": [
            [
             0,
             "#8e0152"
            ],
            [
             0.1,
             "#c51b7d"
            ],
            [
             0.2,
             "#de77ae"
            ],
            [
             0.3,
             "#f1b6da"
            ],
            [
             0.4,
             "#fde0ef"
            ],
            [
             0.5,
             "#f7f7f7"
            ],
            [
             0.6,
             "#e6f5d0"
            ],
            [
             0.7,
             "#b8e186"
            ],
            [
             0.8,
             "#7fbc41"
            ],
            [
             0.9,
             "#4d9221"
            ],
            [
             1,
             "#276419"
            ]
           ],
           "sequential": [
            [
             0,
             "#0d0887"
            ],
            [
             0.1111111111111111,
             "#46039f"
            ],
            [
             0.2222222222222222,
             "#7201a8"
            ],
            [
             0.3333333333333333,
             "#9c179e"
            ],
            [
             0.4444444444444444,
             "#bd3786"
            ],
            [
             0.5555555555555556,
             "#d8576b"
            ],
            [
             0.6666666666666666,
             "#ed7953"
            ],
            [
             0.7777777777777778,
             "#fb9f3a"
            ],
            [
             0.8888888888888888,
             "#fdca26"
            ],
            [
             1,
             "#f0f921"
            ]
           ],
           "sequentialminus": [
            [
             0,
             "#0d0887"
            ],
            [
             0.1111111111111111,
             "#46039f"
            ],
            [
             0.2222222222222222,
             "#7201a8"
            ],
            [
             0.3333333333333333,
             "#9c179e"
            ],
            [
             0.4444444444444444,
             "#bd3786"
            ],
            [
             0.5555555555555556,
             "#d8576b"
            ],
            [
             0.6666666666666666,
             "#ed7953"
            ],
            [
             0.7777777777777778,
             "#fb9f3a"
            ],
            [
             0.8888888888888888,
             "#fdca26"
            ],
            [
             1,
             "#f0f921"
            ]
           ]
          },
          "colorway": [
           "#636efa",
           "#EF553B",
           "#00cc96",
           "#ab63fa",
           "#FFA15A",
           "#19d3f3",
           "#FF6692",
           "#B6E880",
           "#FF97FF",
           "#FECB52"
          ],
          "font": {
           "color": "#2a3f5f"
          },
          "geo": {
           "bgcolor": "white",
           "lakecolor": "white",
           "landcolor": "#E5ECF6",
           "showlakes": true,
           "showland": true,
           "subunitcolor": "white"
          },
          "hoverlabel": {
           "align": "left"
          },
          "hovermode": "closest",
          "mapbox": {
           "style": "light"
          },
          "paper_bgcolor": "white",
          "plot_bgcolor": "#E5ECF6",
          "polar": {
           "angularaxis": {
            "gridcolor": "white",
            "linecolor": "white",
            "ticks": ""
           },
           "bgcolor": "#E5ECF6",
           "radialaxis": {
            "gridcolor": "white",
            "linecolor": "white",
            "ticks": ""
           }
          },
          "scene": {
           "xaxis": {
            "backgroundcolor": "#E5ECF6",
            "gridcolor": "white",
            "gridwidth": 2,
            "linecolor": "white",
            "showbackground": true,
            "ticks": "",
            "zerolinecolor": "white"
           },
           "yaxis": {
            "backgroundcolor": "#E5ECF6",
            "gridcolor": "white",
            "gridwidth": 2,
            "linecolor": "white",
            "showbackground": true,
            "ticks": "",
            "zerolinecolor": "white"
           },
           "zaxis": {
            "backgroundcolor": "#E5ECF6",
            "gridcolor": "white",
            "gridwidth": 2,
            "linecolor": "white",
            "showbackground": true,
            "ticks": "",
            "zerolinecolor": "white"
           }
          },
          "shapedefaults": {
           "line": {
            "color": "#2a3f5f"
           }
          },
          "ternary": {
           "aaxis": {
            "gridcolor": "white",
            "linecolor": "white",
            "ticks": ""
           },
           "baxis": {
            "gridcolor": "white",
            "linecolor": "white",
            "ticks": ""
           },
           "bgcolor": "#E5ECF6",
           "caxis": {
            "gridcolor": "white",
            "linecolor": "white",
            "ticks": ""
           }
          },
          "title": {
           "x": 0.05
          },
          "xaxis": {
           "automargin": true,
           "gridcolor": "white",
           "linecolor": "white",
           "ticks": "",
           "title": {
            "standoff": 15
           },
           "zerolinecolor": "white",
           "zerolinewidth": 2
          },
          "yaxis": {
           "automargin": true,
           "gridcolor": "white",
           "linecolor": "white",
           "ticks": "",
           "title": {
            "standoff": 15
           },
           "zerolinecolor": "white",
           "zerolinewidth": 2
          }
         }
        },
        "title": {
         "text": "Loyal Costumer"
        },
        "xaxis": {
         "anchor": "y",
         "domain": [
          0,
          1
         ],
         "title": {
          "text": "index"
         }
        },
        "yaxis": {
         "anchor": "x",
         "domain": [
          0,
          1
         ],
         "title": {
          "text": "value"
         }
        }
       }
      },
      "text/html": [
       "<div>                            <div id=\"53e57a45-073d-479d-beac-923160748752\" class=\"plotly-graph-div\" style=\"height:525px; width:100%;\"></div>            <script type=\"text/javascript\">                require([\"plotly\"], function(Plotly) {                    window.PLOTLYENV=window.PLOTLYENV || {};                                    if (document.getElementById(\"53e57a45-073d-479d-beac-923160748752\")) {                    Plotly.newPlot(                        \"53e57a45-073d-479d-beac-923160748752\",                        [{\"alignmentgroup\": \"True\", \"hovertemplate\": \"variable=CompanyName<br>index=%{x}<br>value=%{y}<extra></extra>\", \"legendgroup\": \"CompanyName\", \"marker\": {\"color\": \"#636efa\"}, \"name\": \"CompanyName\", \"offsetgroup\": \"CompanyName\", \"orientation\": \"v\", \"showlegend\": true, \"textposition\": \"auto\", \"type\": \"bar\", \"x\": [\"Save-a-lot Markets\", \"Ernst Handel\", \"QUICK-Stop\", \"Rattlesnake Canyon Grocery\", \"Hungry Owl All-Night Grocers\"], \"xaxis\": \"x\", \"y\": [116, 102, 86, 71, 55], \"yaxis\": \"y\"}],                        {\"barmode\": \"relative\", \"legend\": {\"title\": {\"text\": \"variable\"}, \"tracegroupgap\": 0}, \"template\": {\"data\": {\"bar\": [{\"error_x\": {\"color\": \"#2a3f5f\"}, \"error_y\": {\"color\": \"#2a3f5f\"}, \"marker\": {\"line\": {\"color\": \"#E5ECF6\", \"width\": 0.5}}, \"type\": \"bar\"}], \"barpolar\": [{\"marker\": {\"line\": {\"color\": \"#E5ECF6\", \"width\": 0.5}}, \"type\": \"barpolar\"}], \"carpet\": [{\"aaxis\": {\"endlinecolor\": \"#2a3f5f\", \"gridcolor\": \"white\", \"linecolor\": \"white\", \"minorgridcolor\": \"white\", \"startlinecolor\": \"#2a3f5f\"}, \"baxis\": {\"endlinecolor\": \"#2a3f5f\", \"gridcolor\": \"white\", \"linecolor\": \"white\", \"minorgridcolor\": \"white\", \"startlinecolor\": \"#2a3f5f\"}, \"type\": \"carpet\"}], \"choropleth\": [{\"colorbar\": {\"outlinewidth\": 0, \"ticks\": \"\"}, \"type\": \"choropleth\"}], \"contour\": [{\"colorbar\": {\"outlinewidth\": 0, \"ticks\": \"\"}, \"colorscale\": [[0.0, \"#0d0887\"], [0.1111111111111111, \"#46039f\"], [0.2222222222222222, \"#7201a8\"], [0.3333333333333333, \"#9c179e\"], [0.4444444444444444, \"#bd3786\"], [0.5555555555555556, \"#d8576b\"], [0.6666666666666666, \"#ed7953\"], [0.7777777777777778, \"#fb9f3a\"], [0.8888888888888888, \"#fdca26\"], [1.0, \"#f0f921\"]], \"type\": \"contour\"}], \"contourcarpet\": [{\"colorbar\": {\"outlinewidth\": 0, \"ticks\": \"\"}, \"type\": \"contourcarpet\"}], \"heatmap\": [{\"colorbar\": {\"outlinewidth\": 0, \"ticks\": \"\"}, \"colorscale\": [[0.0, \"#0d0887\"], [0.1111111111111111, \"#46039f\"], [0.2222222222222222, \"#7201a8\"], [0.3333333333333333, \"#9c179e\"], [0.4444444444444444, \"#bd3786\"], [0.5555555555555556, \"#d8576b\"], [0.6666666666666666, \"#ed7953\"], [0.7777777777777778, \"#fb9f3a\"], [0.8888888888888888, \"#fdca26\"], [1.0, \"#f0f921\"]], \"type\": \"heatmap\"}], \"heatmapgl\": [{\"colorbar\": {\"outlinewidth\": 0, \"ticks\": \"\"}, \"colorscale\": [[0.0, \"#0d0887\"], [0.1111111111111111, \"#46039f\"], [0.2222222222222222, \"#7201a8\"], [0.3333333333333333, \"#9c179e\"], [0.4444444444444444, \"#bd3786\"], [0.5555555555555556, \"#d8576b\"], [0.6666666666666666, \"#ed7953\"], [0.7777777777777778, \"#fb9f3a\"], [0.8888888888888888, \"#fdca26\"], [1.0, \"#f0f921\"]], \"type\": \"heatmapgl\"}], \"histogram\": [{\"marker\": {\"colorbar\": {\"outlinewidth\": 0, \"ticks\": \"\"}}, \"type\": \"histogram\"}], \"histogram2d\": [{\"colorbar\": {\"outlinewidth\": 0, \"ticks\": \"\"}, \"colorscale\": [[0.0, \"#0d0887\"], [0.1111111111111111, \"#46039f\"], [0.2222222222222222, \"#7201a8\"], [0.3333333333333333, \"#9c179e\"], [0.4444444444444444, \"#bd3786\"], [0.5555555555555556, \"#d8576b\"], [0.6666666666666666, \"#ed7953\"], [0.7777777777777778, \"#fb9f3a\"], [0.8888888888888888, \"#fdca26\"], [1.0, \"#f0f921\"]], \"type\": \"histogram2d\"}], \"histogram2dcontour\": [{\"colorbar\": {\"outlinewidth\": 0, \"ticks\": \"\"}, \"colorscale\": [[0.0, \"#0d0887\"], [0.1111111111111111, \"#46039f\"], [0.2222222222222222, \"#7201a8\"], [0.3333333333333333, \"#9c179e\"], [0.4444444444444444, \"#bd3786\"], [0.5555555555555556, \"#d8576b\"], [0.6666666666666666, \"#ed7953\"], [0.7777777777777778, \"#fb9f3a\"], [0.8888888888888888, \"#fdca26\"], [1.0, \"#f0f921\"]], \"type\": \"histogram2dcontour\"}], \"mesh3d\": [{\"colorbar\": {\"outlinewidth\": 0, \"ticks\": \"\"}, \"type\": \"mesh3d\"}], \"parcoords\": [{\"line\": {\"colorbar\": {\"outlinewidth\": 0, \"ticks\": \"\"}}, \"type\": \"parcoords\"}], \"pie\": [{\"automargin\": true, \"type\": \"pie\"}], \"scatter\": [{\"marker\": {\"colorbar\": {\"outlinewidth\": 0, \"ticks\": \"\"}}, \"type\": \"scatter\"}], \"scatter3d\": [{\"line\": {\"colorbar\": {\"outlinewidth\": 0, \"ticks\": \"\"}}, \"marker\": {\"colorbar\": {\"outlinewidth\": 0, \"ticks\": \"\"}}, \"type\": \"scatter3d\"}], \"scattercarpet\": [{\"marker\": {\"colorbar\": {\"outlinewidth\": 0, \"ticks\": \"\"}}, \"type\": \"scattercarpet\"}], \"scattergeo\": [{\"marker\": {\"colorbar\": {\"outlinewidth\": 0, \"ticks\": \"\"}}, \"type\": \"scattergeo\"}], \"scattergl\": [{\"marker\": {\"colorbar\": {\"outlinewidth\": 0, \"ticks\": \"\"}}, \"type\": \"scattergl\"}], \"scattermapbox\": [{\"marker\": {\"colorbar\": {\"outlinewidth\": 0, \"ticks\": \"\"}}, \"type\": \"scattermapbox\"}], \"scatterpolar\": [{\"marker\": {\"colorbar\": {\"outlinewidth\": 0, \"ticks\": \"\"}}, \"type\": \"scatterpolar\"}], \"scatterpolargl\": [{\"marker\": {\"colorbar\": {\"outlinewidth\": 0, \"ticks\": \"\"}}, \"type\": \"scatterpolargl\"}], \"scatterternary\": [{\"marker\": {\"colorbar\": {\"outlinewidth\": 0, \"ticks\": \"\"}}, \"type\": \"scatterternary\"}], \"surface\": [{\"colorbar\": {\"outlinewidth\": 0, \"ticks\": \"\"}, \"colorscale\": [[0.0, \"#0d0887\"], [0.1111111111111111, \"#46039f\"], [0.2222222222222222, \"#7201a8\"], [0.3333333333333333, \"#9c179e\"], [0.4444444444444444, \"#bd3786\"], [0.5555555555555556, \"#d8576b\"], [0.6666666666666666, \"#ed7953\"], [0.7777777777777778, \"#fb9f3a\"], [0.8888888888888888, \"#fdca26\"], [1.0, \"#f0f921\"]], \"type\": \"surface\"}], \"table\": [{\"cells\": {\"fill\": {\"color\": \"#EBF0F8\"}, \"line\": {\"color\": \"white\"}}, \"header\": {\"fill\": {\"color\": \"#C8D4E3\"}, \"line\": {\"color\": \"white\"}}, \"type\": \"table\"}]}, \"layout\": {\"annotationdefaults\": {\"arrowcolor\": \"#2a3f5f\", \"arrowhead\": 0, \"arrowwidth\": 1}, \"autotypenumbers\": \"strict\", \"coloraxis\": {\"colorbar\": {\"outlinewidth\": 0, \"ticks\": \"\"}}, \"colorscale\": {\"diverging\": [[0, \"#8e0152\"], [0.1, \"#c51b7d\"], [0.2, \"#de77ae\"], [0.3, \"#f1b6da\"], [0.4, \"#fde0ef\"], [0.5, \"#f7f7f7\"], [0.6, \"#e6f5d0\"], [0.7, \"#b8e186\"], [0.8, \"#7fbc41\"], [0.9, \"#4d9221\"], [1, \"#276419\"]], \"sequential\": [[0.0, \"#0d0887\"], [0.1111111111111111, \"#46039f\"], [0.2222222222222222, \"#7201a8\"], [0.3333333333333333, \"#9c179e\"], [0.4444444444444444, \"#bd3786\"], [0.5555555555555556, \"#d8576b\"], [0.6666666666666666, \"#ed7953\"], [0.7777777777777778, \"#fb9f3a\"], [0.8888888888888888, \"#fdca26\"], [1.0, \"#f0f921\"]], \"sequentialminus\": [[0.0, \"#0d0887\"], [0.1111111111111111, \"#46039f\"], [0.2222222222222222, \"#7201a8\"], [0.3333333333333333, \"#9c179e\"], [0.4444444444444444, \"#bd3786\"], [0.5555555555555556, \"#d8576b\"], [0.6666666666666666, \"#ed7953\"], [0.7777777777777778, \"#fb9f3a\"], [0.8888888888888888, \"#fdca26\"], [1.0, \"#f0f921\"]]}, \"colorway\": [\"#636efa\", \"#EF553B\", \"#00cc96\", \"#ab63fa\", \"#FFA15A\", \"#19d3f3\", \"#FF6692\", \"#B6E880\", \"#FF97FF\", \"#FECB52\"], \"font\": {\"color\": \"#2a3f5f\"}, \"geo\": {\"bgcolor\": \"white\", \"lakecolor\": \"white\", \"landcolor\": \"#E5ECF6\", \"showlakes\": true, \"showland\": true, \"subunitcolor\": \"white\"}, \"hoverlabel\": {\"align\": \"left\"}, \"hovermode\": \"closest\", \"mapbox\": {\"style\": \"light\"}, \"paper_bgcolor\": \"white\", \"plot_bgcolor\": \"#E5ECF6\", \"polar\": {\"angularaxis\": {\"gridcolor\": \"white\", \"linecolor\": \"white\", \"ticks\": \"\"}, \"bgcolor\": \"#E5ECF6\", \"radialaxis\": {\"gridcolor\": \"white\", \"linecolor\": \"white\", \"ticks\": \"\"}}, \"scene\": {\"xaxis\": {\"backgroundcolor\": \"#E5ECF6\", \"gridcolor\": \"white\", \"gridwidth\": 2, \"linecolor\": \"white\", \"showbackground\": true, \"ticks\": \"\", \"zerolinecolor\": \"white\"}, \"yaxis\": {\"backgroundcolor\": \"#E5ECF6\", \"gridcolor\": \"white\", \"gridwidth\": 2, \"linecolor\": \"white\", \"showbackground\": true, \"ticks\": \"\", \"zerolinecolor\": \"white\"}, \"zaxis\": {\"backgroundcolor\": \"#E5ECF6\", \"gridcolor\": \"white\", \"gridwidth\": 2, \"linecolor\": \"white\", \"showbackground\": true, \"ticks\": \"\", \"zerolinecolor\": \"white\"}}, \"shapedefaults\": {\"line\": {\"color\": \"#2a3f5f\"}}, \"ternary\": {\"aaxis\": {\"gridcolor\": \"white\", \"linecolor\": \"white\", \"ticks\": \"\"}, \"baxis\": {\"gridcolor\": \"white\", \"linecolor\": \"white\", \"ticks\": \"\"}, \"bgcolor\": \"#E5ECF6\", \"caxis\": {\"gridcolor\": \"white\", \"linecolor\": \"white\", \"ticks\": \"\"}}, \"title\": {\"x\": 0.05}, \"xaxis\": {\"automargin\": true, \"gridcolor\": \"white\", \"linecolor\": \"white\", \"ticks\": \"\", \"title\": {\"standoff\": 15}, \"zerolinecolor\": \"white\", \"zerolinewidth\": 2}, \"yaxis\": {\"automargin\": true, \"gridcolor\": \"white\", \"linecolor\": \"white\", \"ticks\": \"\", \"title\": {\"standoff\": 15}, \"zerolinecolor\": \"white\", \"zerolinewidth\": 2}}}, \"title\": {\"text\": \"Loyal Costumer\"}, \"xaxis\": {\"anchor\": \"y\", \"domain\": [0.0, 1.0], \"title\": {\"text\": \"index\"}}, \"yaxis\": {\"anchor\": \"x\", \"domain\": [0.0, 1.0], \"title\": {\"text\": \"value\"}}},                        {\"responsive\": true}                    ).then(function(){\n",
       "                            \n",
       "var gd = document.getElementById('53e57a45-073d-479d-beac-923160748752');\n",
       "var x = new MutationObserver(function (mutations, observer) {{\n",
       "        var display = window.getComputedStyle(gd).display;\n",
       "        if (!display || display === 'none') {{\n",
       "            console.log([gd, 'removed!']);\n",
       "            Plotly.purge(gd);\n",
       "            observer.disconnect();\n",
       "        }}\n",
       "}});\n",
       "\n",
       "// Listen for the removal of the full notebook cells\n",
       "var notebookContainer = gd.closest('#notebook-container');\n",
       "if (notebookContainer) {{\n",
       "    x.observe(notebookContainer, {childList: true});\n",
       "}}\n",
       "\n",
       "// Listen for the clearing of the current output cell\n",
       "var outputEl = gd.closest('.output');\n",
       "if (outputEl) {{\n",
       "    x.observe(outputEl, {childList: true});\n",
       "}}\n",
       "\n",
       "                        })                };                });            </script>        </div>"
      ]
     },
     "metadata": {},
     "output_type": "display_data"
    }
   ],
   "source": [
    "fig = px.bar(tabel1['CompanyName'].value_counts().head(),\n",
    "            title = 'Loyal Costumer')\n",
    "fig.show()"
   ]
  },
  {
   "cell_type": "markdown",
   "id": "cf6e7c0a",
   "metadata": {},
   "source": [
    "Customer terbanyak Save-a-lot Markets yang merupakan perusahaan yang berasal dari USA,EH = Austria QS = Germany, Rattlesnake Canyon Grocery USA, Hungry Owl All-Night Grocers = Ireland"
   ]
  },
  {
   "cell_type": "markdown",
   "id": "5b2864de",
   "metadata": {},
   "source": [
    "## Negara Pemesan Terbanyak"
   ]
  },
  {
   "cell_type": "code",
   "execution_count": 496,
   "id": "13158904",
   "metadata": {},
   "outputs": [
    {
     "data": {
      "image/png": "[encoded data removed]",
      "text/plain": [
       "<Figure size 1440x720 with 1 Axes>"
      ]
     },
     "metadata": {},
     "output_type": "display_data"
    },
    {
     "data": {
      "text/plain": [
       "<Figure size 576x396 with 0 Axes>"
      ]
     },
     "metadata": {},
     "output_type": "display_data"
    }
   ],
   "source": [
    "plt.figure(figsize=(20,10))\n",
    "sns.countplot(tabel1['Country'],\n",
    "            order = tabel1['Country'].value_counts().index)\n",
    "plt.xlabel('Negara', size = 20)\n",
    "plt.ylabel('Jumlah Pesanan', size = 20)\n",
    "plt.title ('Negara Pemesan Terbanyak', size = 30)\n",
    "plt.show()\n",
    "plt.savefig('Negara.png')"
   ]
  },
  {
   "cell_type": "markdown",
   "id": "867a78c4",
   "metadata": {},
   "source": [
    "## Kategori Produk Terlaris"
   ]
  },
  {
   "cell_type": "code",
   "execution_count": 497,
   "id": "9e1d67f0",
   "metadata": {},
   "outputs": [
    {
     "data": {
      "text/html": [
       "<div>\n",
       "<style scoped>\n",
       "    .dataframe tbody tr th:only-of-type {\n",
       "        vertical-align: middle;\n",
       "    }\n",
       "\n",
       "    .dataframe tbody tr th {\n",
       "        vertical-align: top;\n",
       "    }\n",
       "\n",
       "    .dataframe thead th {\n",
       "        text-align: right;\n",
       "    }\n",
       "</style>\n",
       "<table border=\"1\" class=\"dataframe\">\n",
       "  <thead>\n",
       "    <tr style=\"text-align: right;\">\n",
       "      <th></th>\n",
       "      <th>Product</th>\n",
       "    </tr>\n",
       "    <tr>\n",
       "      <th>Category</th>\n",
       "      <th></th>\n",
       "    </tr>\n",
       "  </thead>\n",
       "  <tbody>\n",
       "    <tr>\n",
       "      <th>Produce</th>\n",
       "      <td>135</td>\n",
       "    </tr>\n",
       "    <tr>\n",
       "      <th>Meat/Poultry</th>\n",
       "      <td>173</td>\n",
       "    </tr>\n",
       "    <tr>\n",
       "      <th>Grains/Cereals</th>\n",
       "      <td>195</td>\n",
       "    </tr>\n",
       "    <tr>\n",
       "      <th>Condiments</th>\n",
       "      <td>215</td>\n",
       "    </tr>\n",
       "    <tr>\n",
       "      <th>Seafood</th>\n",
       "      <td>329</td>\n",
       "    </tr>\n",
       "    <tr>\n",
       "      <th>Confections</th>\n",
       "      <td>334</td>\n",
       "    </tr>\n",
       "    <tr>\n",
       "      <th>Dairy Products</th>\n",
       "      <td>365</td>\n",
       "    </tr>\n",
       "    <tr>\n",
       "      <th>Beverages</th>\n",
       "      <td>403</td>\n",
       "    </tr>\n",
       "  </tbody>\n",
       "</table>\n",
       "</div>"
      ],
      "text/plain": [
       "                Product\n",
       "Category               \n",
       "Produce             135\n",
       "Meat/Poultry        173\n",
       "Grains/Cereals      195\n",
       "Condiments          215\n",
       "Seafood             329\n",
       "Confections         334\n",
       "Dairy Products      365\n",
       "Beverages           403"
      ]
     },
     "execution_count": 497,
     "metadata": {},
     "output_type": "execute_result"
    }
   ],
   "source": [
    "productQuanti = tabel1[['Category', 'Product']].groupby(['Category']).count().sort_values('Product')\n",
    "productQuanti"
   ]
  },
  {
   "cell_type": "code",
   "execution_count": 507,
   "id": "a4505554",
   "metadata": {},
   "outputs": [
    {
     "data": {
      "image/png": "[encoded data removed]",
      "text/plain": [
       "<Figure size 1440x720 with 1 Axes>"
      ]
     },
     "metadata": {},
     "output_type": "display_data"
    }
   ],
   "source": [
    "# Product Line Quantities\n",
    "x = productQuanti.index\n",
    "y = productQuanti['Product']\n",
    "\n",
    "plt.style.use('seaborn')\n",
    "plt.figure(figsize = (20,10))\n",
    "plt.barh(x,y, color = sns.color_palette('bright'))\n",
    "plt.title('Jumlah Kategori Produk Terlaris', size = 30)\n",
    "plt.xlabel('Quantities', size = 25)\n",
    "plt.ylabel('Product', size = 25)\n",
    "plt.show()"
   ]
  },
  {
   "cell_type": "markdown",
   "id": "5390b40c",
   "metadata": {},
   "source": [
    "Pada grafik diatas dapat disimpulkan yang paling signifikan kuantitas terbanyak terdapat 4 produk yaitu : Beverages, Dairy Products, Confections, dan Seafood. Kategori terlaris merupakan beverages (Minuman), hal itu dapat diasumsikan minuman merupakan kebutuhan masyarakat karena manusia lebih sering minum daripada makan, dan juga produk minuman mudah dijangkau masyarakat.\n"
   ]
  },
  {
   "cell_type": "markdown",
   "id": "b81a25e6",
   "metadata": {},
   "source": [
    "## **Selisih Harga Penawaran dengan Harga Awal Tahun 1996 - 1998**"
   ]
  },
  {
   "cell_type": "code",
   "execution_count": 508,
   "id": "94e54910",
   "metadata": {},
   "outputs": [],
   "source": [
    "dataBaru = tabel1.groupby('OrderYear').sum().reset_index()"
   ]
  },
  {
   "cell_type": "code",
   "execution_count": 509,
   "id": "5e71dc03",
   "metadata": {},
   "outputs": [
    {
     "data": {
      "image/png": "[encoded data removed]",
      "text/plain": [
       "<Figure size 1080x720 with 1 Axes>"
      ]
     },
     "metadata": {},
     "output_type": "display_data"
    }
   ],
   "source": [
    "plt.figure(figsize = (15,10))\n",
    "sns.barplot(x = 'OrderYear', y = 'DiffPrice', data = dataBaru)\n",
    "plt.show()"
   ]
  },
  {
   "cell_type": "markdown",
   "id": "dab5ea03",
   "metadata": {},
   "source": [
    "# Test Hipotesis"
   ]
  },
  {
   "cell_type": "markdown",
   "id": "2e3d4d1e",
   "metadata": {},
   "source": [
    "## Test for a Normal Distribution"
   ]
  },
  {
   "cell_type": "code",
   "execution_count": 510,
   "id": "b18cd9f5",
   "metadata": {},
   "outputs": [
    {
     "name": "stdout",
     "output_type": "stream",
     "text": [
      "Hipotesis\n",
      "H0 \t: Data Berdistribusi Normal\n",
      "H1 \t: Data Tidak Berdistribusi Normal\n",
      "Nilai P-Value = 0.0, Tolak H0\n"
     ]
    }
   ],
   "source": [
    "# Uji Normalitas dengan Shapiro Wilk\n",
    "from scipy.stats import shapiro\n",
    "print ('Hipotesis')\n",
    "print ('H0 \\t: Data Berdistribusi Normal')\n",
    "print ('H1 \\t: Data Tidak Berdistribusi Normal')\n",
    "\n",
    "stat, pvalshapiro1 = shapiro(tabel1['TotalPrice'])\n",
    "\n",
    "if pvalshapiro1 < 0.05 :\n",
    "    print (f'Nilai P-Value = {pvalshapiro1}, Tolak H0')\n",
    "else :\n",
    "    print (f'Nilai P-Value = {pvalshapiro1}, Artinya Gagal Tolak H0')"
   ]
  },
  {
   "cell_type": "code",
   "execution_count": 511,
   "id": "c7e0e0b0",
   "metadata": {},
   "outputs": [
    {
     "name": "stdout",
     "output_type": "stream",
     "text": [
      "Hipotesis\n",
      "H0 \t: Tidak Terdapat Perbedaan TotalPrice Pada Tahun 1996, 1997, dan 1998\n",
      "H1 \t: Terdapat Perbedaan Perbedaan TotalPrice Pada Tahun 1996, 1997, dan 1998\n",
      "Gagal Tolak H0\n"
     ]
    }
   ],
   "source": [
    "# Uji Perbandingan Nilai\n",
    "from scipy.stats import kruskal\n",
    "\n",
    "print ('Hipotesis')\n",
    "print ('H0 \\t: Tidak Terdapat Perbedaan TotalPrice Pada Tahun 1996, 1997, dan 1998')\n",
    "print ('H1 \\t: Terdapat Perbedaan Perbedaan TotalPrice Pada Tahun 1996, 1997, dan 1998')\n",
    "\n",
    "stat, pvalkruskal = kruskal(\n",
    "    tabel1[tabel1['OrderYear'] == 1996]['TotalPrice'],\n",
    "    tabel1[tabel1['OrderYear'] == 1997]['TotalPrice'],\n",
    "    tabel1[tabel1['OrderYear'] == 1998]['TotalPrice']\n",
    ")\n",
    "\n",
    "if pvalkruskal < 0.05 :\n",
    "    print ('Tolak H0')\n",
    "else :\n",
    "    print ('Gagal Tolak H0')"
   ]
  },
  {
   "cell_type": "markdown",
   "id": "bb209efe",
   "metadata": {},
   "source": [
    "## Korelasi Antara Hubungan Harga dan Jumlah Produk"
   ]
  },
  {
   "cell_type": "code",
   "execution_count": 512,
   "id": "79c02273",
   "metadata": {},
   "outputs": [
    {
     "data": {
      "text/plain": [
       "<AxesSubplot:>"
      ]
     },
     "execution_count": 512,
     "metadata": {},
     "output_type": "execute_result"
    },
    {
     "data": {
      "image/png": "[encoded data removed]",
      "text/plain": [
       "<Figure size 720x720 with 2 Axes>"
      ]
     },
     "metadata": {},
     "output_type": "display_data"
    }
   ],
   "source": [
    "# Korelasi\n",
    "\n",
    "plt.figure(figsize=(10,10))\n",
    "sns.heatmap(tabel1[['InitialPrice', 'BidPrice', 'Quantity', 'DiffPrice', 'TotalPrice']].corr('spearman'), annot=True)"
   ]
  },
  {
   "cell_type": "code",
   "execution_count": 513,
   "id": "41bae951",
   "metadata": {},
   "outputs": [
    {
     "data": {
      "text/plain": [
       "<AxesSubplot:xlabel='TotalPrice', ylabel='Quantity'>"
      ]
     },
     "execution_count": 513,
     "metadata": {},
     "output_type": "execute_result"
    },
    {
     "data": {
      "image/png": "[encoded data removed]",
      "text/plain": [
       "<Figure size 1080x720 with 1 Axes>"
      ]
     },
     "metadata": {},
     "output_type": "display_data"
    }
   ],
   "source": [
    "plt.figure(figsize=(15,10))\n",
    "sns.scatterplot(tabel1['TotalPrice'], tabel1['Quantity'])"
   ]
  }
 ],
 "metadata": {
  "kernelspec": {
   "display_name": "Python 3",
   "language": "python",
   "name": "python3"
  },
  "language_info": {
   "codemirror_mode": {
    "name": "ipython",
    "version": 3
   },
   "file_extension": ".py",
   "mimetype": "text/x-python",
   "name": "python",
   "nbconvert_exporter": "python",
   "pygments_lexer": "ipython3",
   "version": "3.8.8"
  }
 },
 "nbformat": 4,
 "nbformat_minor": 5
}
